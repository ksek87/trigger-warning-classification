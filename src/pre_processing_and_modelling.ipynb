{
  "nbformat": 4,
  "nbformat_minor": 0,
  "metadata": {
    "colab": {
      "name": "pre_processing_and_modelling",
      "provenance": [],
      "collapsed_sections": [],
      "machine_shape": "hm"
    },
    "kernelspec": {
      "name": "python3",
      "display_name": "Python 3"
    },
    "language_info": {
      "name": "python"
    },
    "accelerator": "GPU"
  },
  "cells": [
    {
      "cell_type": "markdown",
      "metadata": {
        "id": "ozU_F3_Z0Gb8"
      },
      "source": [
        "NLP Project: Classification of ‘Triggering’ Content on Social Media CSCI 4152 - Natural Language Processing\n",
        "\n",
        "Keelin Sekerka-Bajbus"
      ]
    },
    {
      "cell_type": "markdown",
      "metadata": {
        "id": "hT-zLNdh0Mjp"
      },
      "source": [
        "**Data Pre-processing and Model Selection**"
      ]
    },
    {
      "cell_type": "code",
      "metadata": {
        "id": "fLaLXpzo0ByA"
      },
      "source": [
        "# import libraries\n",
        "import csv\n",
        "import time\n",
        "import pandas as pd\n",
        "import os\n",
        "import sys\n",
        "import numpy as np\n",
        "import io\n",
        "from google.colab import files\n",
        "import gensim\n",
        "import nltk\n",
        "import re\n",
        "import seaborn as sns\n",
        "import matplotlib.pyplot as plt"
      ],
      "execution_count": 1,
      "outputs": []
    },
    {
      "cell_type": "code",
      "metadata": {
        "colab": {
          "base_uri": "https://localhost:8080/"
        },
        "id": "d2lO1V_COsoh",
        "outputId": "e8aa0929-4a52-430b-9ba9-530fe335e45f"
      },
      "source": [
        "nltk.download('punkt')\n",
        "nltk.download('stopwords')"
      ],
      "execution_count": 2,
      "outputs": [
        {
          "output_type": "stream",
          "name": "stdout",
          "text": [
            "[nltk_data] Downloading package punkt to /root/nltk_data...\n",
            "[nltk_data]   Unzipping tokenizers/punkt.zip.\n",
            "[nltk_data] Downloading package stopwords to /root/nltk_data...\n",
            "[nltk_data]   Unzipping corpora/stopwords.zip.\n"
          ]
        },
        {
          "output_type": "execute_result",
          "data": {
            "text/plain": [
              "True"
            ]
          },
          "metadata": {},
          "execution_count": 2
        }
      ]
    },
    {
      "cell_type": "code",
      "metadata": {
        "colab": {
          "resources": {
            "http://localhost:8080/nbextensions/google.colab/files.js": {
              "data": "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",
              "ok": true,
              "headers": [
                [
                  "content-type",
                  "application/javascript"
                ]
              ],
              "status": 200,
              "status_text": ""
            }
          },
          "base_uri": "https://localhost:8080/",
          "height": 107
        },
        "id": "pIPcPjnp1_co",
        "outputId": "26144522-506c-46d9-890b-415445fa31d9"
      },
      "source": [
        "# upload dataset\n",
        "uploaded= files.upload()\n",
        "df = pd.read_csv(io.BytesIO(uploaded['trigger_warnings_dataset.csv']), index_col=0)"
      ],
      "execution_count": 3,
      "outputs": [
        {
          "output_type": "display_data",
          "data": {
            "text/html": [
              "\n",
              "     <input type=\"file\" id=\"files-aa152831-144f-4939-bf6b-e930d394e150\" name=\"files[]\" multiple disabled\n",
              "        style=\"border:none\" />\n",
              "     <output id=\"result-aa152831-144f-4939-bf6b-e930d394e150\">\n",
              "      Upload widget is only available when the cell has been executed in the\n",
              "      current browser session. Please rerun this cell to enable.\n",
              "      </output>\n",
              "      <script src=\"/nbextensions/google.colab/files.js\"></script> "
            ],
            "text/plain": [
              "<IPython.core.display.HTML object>"
            ]
          },
          "metadata": {}
        },
        {
          "output_type": "stream",
          "name": "stdout",
          "text": [
            "Saving trigger_warnings_dataset.csv to trigger_warnings_dataset.csv\n"
          ]
        },
        {
          "output_type": "stream",
          "name": "stderr",
          "text": [
            "/usr/local/lib/python3.7/dist-packages/IPython/core/interactiveshell.py:2718: DtypeWarning: Columns (0) have mixed types.Specify dtype option on import or set low_memory=False.\n",
            "  interactivity=interactivity, compiler=compiler, result=result)\n"
          ]
        }
      ]
    },
    {
      "cell_type": "markdown",
      "metadata": {
        "id": "pUsJEo8Zoqqa"
      },
      "source": [
        "Merge the old data set and new dataset (drop duplicates)."
      ]
    },
    {
      "cell_type": "code",
      "metadata": {
        "colab": {
          "resources": {
            "http://localhost:8080/nbextensions/google.colab/files.js": {
              "data": "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",
              "ok": true,
              "headers": [
                [
                  "content-type",
                  "application/javascript"
                ]
              ],
              "status": 200,
              "status_text": ""
            }
          },
          "base_uri": "https://localhost:8080/",
          "height": 73
        },
        "id": "-vmT1EVHowYh",
        "outputId": "cc68d503-6f9f-46c6-d1ac-8d9c1f2b4af9"
      },
      "source": [
        "uploaded= files.upload()\n",
        "df_old = pd.read_csv(io.BytesIO(uploaded['dataset_triggers.csv']), index_col=0)"
      ],
      "execution_count": 5,
      "outputs": [
        {
          "output_type": "display_data",
          "data": {
            "text/html": [
              "\n",
              "     <input type=\"file\" id=\"files-0c8bd44e-5058-4ced-a648-ee781f08c72a\" name=\"files[]\" multiple disabled\n",
              "        style=\"border:none\" />\n",
              "     <output id=\"result-0c8bd44e-5058-4ced-a648-ee781f08c72a\">\n",
              "      Upload widget is only available when the cell has been executed in the\n",
              "      current browser session. Please rerun this cell to enable.\n",
              "      </output>\n",
              "      <script src=\"/nbextensions/google.colab/files.js\"></script> "
            ],
            "text/plain": [
              "<IPython.core.display.HTML object>"
            ]
          },
          "metadata": {}
        },
        {
          "output_type": "stream",
          "name": "stdout",
          "text": [
            "Saving dataset_triggers.csv to dataset_triggers (1).csv\n"
          ]
        }
      ]
    },
    {
      "cell_type": "code",
      "metadata": {
        "id": "UAdCohWD3Ehq"
      },
      "source": [
        "df = pd.concat([df,df_old])"
      ],
      "execution_count": 7,
      "outputs": []
    },
    {
      "cell_type": "code",
      "metadata": {
        "colab": {
          "base_uri": "https://localhost:8080/",
          "height": 206
        },
        "id": "TK03GWUwsVq5",
        "outputId": "6c7160e6-79b0-4575-f6f0-1381738973b3"
      },
      "source": [
        "df.tail()"
      ],
      "execution_count": 6,
      "outputs": [
        {
          "output_type": "execute_result",
          "data": {
            "text/html": [
              "<div>\n",
              "<style scoped>\n",
              "    .dataframe tbody tr th:only-of-type {\n",
              "        vertical-align: middle;\n",
              "    }\n",
              "\n",
              "    .dataframe tbody tr th {\n",
              "        vertical-align: top;\n",
              "    }\n",
              "\n",
              "    .dataframe thead th {\n",
              "        text-align: right;\n",
              "    }\n",
              "</style>\n",
              "<table border=\"1\" class=\"dataframe\">\n",
              "  <thead>\n",
              "    <tr style=\"text-align: right;\">\n",
              "      <th></th>\n",
              "      <th>title</th>\n",
              "      <th>selftext</th>\n",
              "      <th>class</th>\n",
              "    </tr>\n",
              "  </thead>\n",
              "  <tbody>\n",
              "    <tr>\n",
              "      <th>24324</th>\n",
              "      <td>Athletes are abused by coaches and why are the...</td>\n",
              "      <td>NaN</td>\n",
              "      <td>Abuse</td>\n",
              "    </tr>\n",
              "    <tr>\n",
              "      <th>24329</th>\n",
              "      <td>Blaming the innocence of a child</td>\n",
              "      <td>When I was 6, when my parents split up my moth...</td>\n",
              "      <td>Abuse</td>\n",
              "    </tr>\n",
              "    <tr>\n",
              "      <th>24330</th>\n",
              "      <td>The journey of surviving abuse and reinventing...</td>\n",
              "      <td>I am currently in the process of writing this ...</td>\n",
              "      <td>Abuse</td>\n",
              "    </tr>\n",
              "    <tr>\n",
              "      <th>24332</th>\n",
              "      <td>UCI team is first to capture motion of single ...</td>\n",
              "      <td>NaN</td>\n",
              "      <td>Abuse</td>\n",
              "    </tr>\n",
              "    <tr>\n",
              "      <th>24333</th>\n",
              "      <td>Lets put up a link to the discussion that spaw...</td>\n",
              "      <td>NaN</td>\n",
              "      <td>Abuse</td>\n",
              "    </tr>\n",
              "  </tbody>\n",
              "</table>\n",
              "</div>"
            ],
            "text/plain": [
              "                                                   title  ...  class\n",
              "24324  Athletes are abused by coaches and why are the...  ...  Abuse\n",
              "24329                   Blaming the innocence of a child  ...  Abuse\n",
              "24330  The journey of surviving abuse and reinventing...  ...  Abuse\n",
              "24332  UCI team is first to capture motion of single ...  ...  Abuse\n",
              "24333  Lets put up a link to the discussion that spaw...  ...  Abuse\n",
              "\n",
              "[5 rows x 3 columns]"
            ]
          },
          "metadata": {},
          "execution_count": 6
        }
      ]
    },
    {
      "cell_type": "code",
      "metadata": {
        "colab": {
          "base_uri": "https://localhost:8080/",
          "height": 424
        },
        "id": "T_RuVFEDs7d3",
        "outputId": "919c0a57-ff17-4d36-92b6-5a5cb18bf90f"
      },
      "source": [
        "df.drop_duplicates()"
      ],
      "execution_count": 9,
      "outputs": [
        {
          "output_type": "execute_result",
          "data": {
            "text/html": [
              "<div>\n",
              "<style scoped>\n",
              "    .dataframe tbody tr th:only-of-type {\n",
              "        vertical-align: middle;\n",
              "    }\n",
              "\n",
              "    .dataframe tbody tr th {\n",
              "        vertical-align: top;\n",
              "    }\n",
              "\n",
              "    .dataframe thead th {\n",
              "        text-align: right;\n",
              "    }\n",
              "</style>\n",
              "<table border=\"1\" class=\"dataframe\">\n",
              "  <thead>\n",
              "    <tr style=\"text-align: right;\">\n",
              "      <th></th>\n",
              "      <th>title</th>\n",
              "      <th>selftext</th>\n",
              "      <th>class</th>\n",
              "    </tr>\n",
              "  </thead>\n",
              "  <tbody>\n",
              "    <tr>\n",
              "      <th>7</th>\n",
              "      <td>Suicidal Partner</td>\n",
              "      <td>My boyfriend has been depressed and suicidal s...</td>\n",
              "      <td>Suicide</td>\n",
              "    </tr>\n",
              "    <tr>\n",
              "      <th>10</th>\n",
              "      <td>Why does there always have to be a reason to f...</td>\n",
              "      <td>when im honest with my dad if im anxious depre...</td>\n",
              "      <td>Suicide</td>\n",
              "    </tr>\n",
              "    <tr>\n",
              "      <th>17</th>\n",
              "      <td>my friend's attempted and i dont know how to r...</td>\n",
              "      <td>hi, i just got a suicidal note/message from a ...</td>\n",
              "      <td>Suicide</td>\n",
              "    </tr>\n",
              "    <tr>\n",
              "      <th>20</th>\n",
              "      <td>Im scared of myself</td>\n",
              "      <td>I literally think about it hourly. Im so hideo...</td>\n",
              "      <td>Suicide</td>\n",
              "    </tr>\n",
              "    <tr>\n",
              "      <th>22</th>\n",
              "      <td>I dont want to die</td>\n",
              "      <td>But I dont really see a way out of this I have...</td>\n",
              "      <td>Suicide</td>\n",
              "    </tr>\n",
              "    <tr>\n",
              "      <th>...</th>\n",
              "      <td>...</td>\n",
              "      <td>...</td>\n",
              "      <td>...</td>\n",
              "    </tr>\n",
              "    <tr>\n",
              "      <th>163139</th>\n",
              "      <td>Narc(issist)'s Bride Wants Out</td>\n",
              "      <td>Together almost 2 years. I have bailed him out...</td>\n",
              "      <td>Abuse</td>\n",
              "    </tr>\n",
              "    <tr>\n",
              "      <th>163141</th>\n",
              "      <td>Dirty, abused and confused?? *trigger warning*</td>\n",
              "      <td>I'll start with Hi. I'm 18 and about a year ag...</td>\n",
              "      <td>Abuse</td>\n",
              "    </tr>\n",
              "    <tr>\n",
              "      <th>163151</th>\n",
              "      <td>I need help. Girlfriend won't let me leave her.</td>\n",
              "      <td>Hi, first post ever. I'm at work so typing thi...</td>\n",
              "      <td>Abuse</td>\n",
              "    </tr>\n",
              "    <tr>\n",
              "      <th>163155</th>\n",
              "      <td>Need some advice from GOOD men</td>\n",
              "      <td>20 year old Female, 22 year old male\\nTL;DR;  ...</td>\n",
              "      <td>Abuse</td>\n",
              "    </tr>\n",
              "    <tr>\n",
              "      <th>163158</th>\n",
              "      <td>I love him but..</td>\n",
              "      <td>He threatened to kill me if I ever leave him.....</td>\n",
              "      <td>Abuse</td>\n",
              "    </tr>\n",
              "  </tbody>\n",
              "</table>\n",
              "<p>377134 rows × 3 columns</p>\n",
              "</div>"
            ],
            "text/plain": [
              "                                                    title  ...    class\n",
              "7                                        Suicidal Partner  ...  Suicide\n",
              "10      Why does there always have to be a reason to f...  ...  Suicide\n",
              "17      my friend's attempted and i dont know how to r...  ...  Suicide\n",
              "20                                    Im scared of myself  ...  Suicide\n",
              "22                                     I dont want to die  ...  Suicide\n",
              "...                                                   ...  ...      ...\n",
              "163139                     Narc(issist)'s Bride Wants Out  ...    Abuse\n",
              "163141     Dirty, abused and confused?? *trigger warning*  ...    Abuse\n",
              "163151    I need help. Girlfriend won't let me leave her.  ...    Abuse\n",
              "163155                     Need some advice from GOOD men  ...    Abuse\n",
              "163158                                   I love him but..  ...    Abuse\n",
              "\n",
              "[377134 rows x 3 columns]"
            ]
          },
          "metadata": {},
          "execution_count": 9
        }
      ]
    },
    {
      "cell_type": "code",
      "metadata": {
        "colab": {
          "base_uri": "https://localhost:8080/"
        },
        "id": "-DhaM1RKtG46",
        "outputId": "0638b7ad-a904-47da-df3a-1fef7ff051ce"
      },
      "source": [
        "df.shape"
      ],
      "execution_count": 10,
      "outputs": [
        {
          "output_type": "execute_result",
          "data": {
            "text/plain": [
              "(377134, 3)"
            ]
          },
          "metadata": {},
          "execution_count": 10
        }
      ]
    },
    {
      "cell_type": "code",
      "metadata": {
        "id": "BNZIcD57pzwC",
        "colab": {
          "base_uri": "https://localhost:8080/",
          "height": 17
        },
        "outputId": "6889d3fd-42ef-4bf6-ff01-3b9997a54766"
      },
      "source": [
        "# download concatenated dataset to make full dataset\n",
        "df.to_csv('trigger_warnings_dataset.csv',encoding='utf-8')\n",
        "files.download(\"trigger_warnings_dataset.csv\")"
      ],
      "execution_count": 11,
      "outputs": [
        {
          "output_type": "display_data",
          "data": {
            "application/javascript": [
              "\n",
              "    async function download(id, filename, size) {\n",
              "      if (!google.colab.kernel.accessAllowed) {\n",
              "        return;\n",
              "      }\n",
              "      const div = document.createElement('div');\n",
              "      const label = document.createElement('label');\n",
              "      label.textContent = `Downloading \"${filename}\": `;\n",
              "      div.appendChild(label);\n",
              "      const progress = document.createElement('progress');\n",
              "      progress.max = size;\n",
              "      div.appendChild(progress);\n",
              "      document.body.appendChild(div);\n",
              "\n",
              "      const buffers = [];\n",
              "      let downloaded = 0;\n",
              "\n",
              "      const channel = await google.colab.kernel.comms.open(id);\n",
              "      // Send a message to notify the kernel that we're ready.\n",
              "      channel.send({})\n",
              "\n",
              "      for await (const message of channel.messages) {\n",
              "        // Send a message to notify the kernel that we're ready.\n",
              "        channel.send({})\n",
              "        if (message.buffers) {\n",
              "          for (const buffer of message.buffers) {\n",
              "            buffers.push(buffer);\n",
              "            downloaded += buffer.byteLength;\n",
              "            progress.value = downloaded;\n",
              "          }\n",
              "        }\n",
              "      }\n",
              "      const blob = new Blob(buffers, {type: 'application/binary'});\n",
              "      const a = document.createElement('a');\n",
              "      a.href = window.URL.createObjectURL(blob);\n",
              "      a.download = filename;\n",
              "      div.appendChild(a);\n",
              "      a.click();\n",
              "      div.remove();\n",
              "    }\n",
              "  "
            ],
            "text/plain": [
              "<IPython.core.display.Javascript object>"
            ]
          },
          "metadata": {}
        },
        {
          "output_type": "display_data",
          "data": {
            "application/javascript": [
              "download(\"download_8d486189-e8c6-4f5c-a442-37bc0bedbb72\", \"trigger_warnings_dataset.csv\", 344417960)"
            ],
            "text/plain": [
              "<IPython.core.display.Javascript object>"
            ]
          },
          "metadata": {}
        }
      ]
    },
    {
      "cell_type": "code",
      "metadata": {
        "id": "ydikpE0A7xU8",
        "colab": {
          "base_uri": "https://localhost:8080/",
          "height": 206
        },
        "outputId": "6892536a-ec46-4810-dd88-63cde8a43854"
      },
      "source": [
        "df.head()"
      ],
      "execution_count": 4,
      "outputs": [
        {
          "output_type": "execute_result",
          "data": {
            "text/html": [
              "<div>\n",
              "<style scoped>\n",
              "    .dataframe tbody tr th:only-of-type {\n",
              "        vertical-align: middle;\n",
              "    }\n",
              "\n",
              "    .dataframe tbody tr th {\n",
              "        vertical-align: top;\n",
              "    }\n",
              "\n",
              "    .dataframe thead th {\n",
              "        text-align: right;\n",
              "    }\n",
              "</style>\n",
              "<table border=\"1\" class=\"dataframe\">\n",
              "  <thead>\n",
              "    <tr style=\"text-align: right;\">\n",
              "      <th></th>\n",
              "      <th>title</th>\n",
              "      <th>selftext</th>\n",
              "      <th>class</th>\n",
              "    </tr>\n",
              "  </thead>\n",
              "  <tbody>\n",
              "    <tr>\n",
              "      <th>7</th>\n",
              "      <td>Suicidal Partner</td>\n",
              "      <td>My boyfriend has been depressed and suicidal s...</td>\n",
              "      <td>Suicide</td>\n",
              "    </tr>\n",
              "    <tr>\n",
              "      <th>10</th>\n",
              "      <td>Why does there always have to be a reason to f...</td>\n",
              "      <td>when im honest with my dad if im anxious depre...</td>\n",
              "      <td>Suicide</td>\n",
              "    </tr>\n",
              "    <tr>\n",
              "      <th>17</th>\n",
              "      <td>my friend's attempted and i dont know how to r...</td>\n",
              "      <td>hi, i just got a suicidal note/message from a ...</td>\n",
              "      <td>Suicide</td>\n",
              "    </tr>\n",
              "    <tr>\n",
              "      <th>20</th>\n",
              "      <td>Im scared of myself</td>\n",
              "      <td>I literally think about it hourly. Im so hideo...</td>\n",
              "      <td>Suicide</td>\n",
              "    </tr>\n",
              "    <tr>\n",
              "      <th>22</th>\n",
              "      <td>I dont want to die</td>\n",
              "      <td>But I dont really see a way out of this I have...</td>\n",
              "      <td>Suicide</td>\n",
              "    </tr>\n",
              "  </tbody>\n",
              "</table>\n",
              "</div>"
            ],
            "text/plain": [
              "                                                title  ...    class\n",
              "7                                    Suicidal Partner  ...  Suicide\n",
              "10  Why does there always have to be a reason to f...  ...  Suicide\n",
              "17  my friend's attempted and i dont know how to r...  ...  Suicide\n",
              "20                                Im scared of myself  ...  Suicide\n",
              "22                                 I dont want to die  ...  Suicide\n",
              "\n",
              "[5 rows x 3 columns]"
            ]
          },
          "metadata": {},
          "execution_count": 4
        }
      ]
    },
    {
      "cell_type": "markdown",
      "metadata": {
        "id": "3UolPFXi3kp_"
      },
      "source": [
        "Step 1: Concatenate Title and Selftext "
      ]
    },
    {
      "cell_type": "code",
      "metadata": {
        "id": "9g5DaQeJ3ppB",
        "colab": {
          "base_uri": "https://localhost:8080/",
          "height": 206
        },
        "outputId": "c3793f11-5677-4a98-ca10-9da389f7c93c"
      },
      "source": [
        "df['text'] = df['title']+' '+df['selftext']\n",
        "df.head()"
      ],
      "execution_count": 5,
      "outputs": [
        {
          "output_type": "execute_result",
          "data": {
            "text/html": [
              "<div>\n",
              "<style scoped>\n",
              "    .dataframe tbody tr th:only-of-type {\n",
              "        vertical-align: middle;\n",
              "    }\n",
              "\n",
              "    .dataframe tbody tr th {\n",
              "        vertical-align: top;\n",
              "    }\n",
              "\n",
              "    .dataframe thead th {\n",
              "        text-align: right;\n",
              "    }\n",
              "</style>\n",
              "<table border=\"1\" class=\"dataframe\">\n",
              "  <thead>\n",
              "    <tr style=\"text-align: right;\">\n",
              "      <th></th>\n",
              "      <th>title</th>\n",
              "      <th>selftext</th>\n",
              "      <th>class</th>\n",
              "      <th>text</th>\n",
              "    </tr>\n",
              "  </thead>\n",
              "  <tbody>\n",
              "    <tr>\n",
              "      <th>7</th>\n",
              "      <td>Suicidal Partner</td>\n",
              "      <td>My boyfriend has been depressed and suicidal s...</td>\n",
              "      <td>Suicide</td>\n",
              "      <td>Suicidal Partner My boyfriend has been depress...</td>\n",
              "    </tr>\n",
              "    <tr>\n",
              "      <th>10</th>\n",
              "      <td>Why does there always have to be a reason to f...</td>\n",
              "      <td>when im honest with my dad if im anxious depre...</td>\n",
              "      <td>Suicide</td>\n",
              "      <td>Why does there always have to be a reason to f...</td>\n",
              "    </tr>\n",
              "    <tr>\n",
              "      <th>17</th>\n",
              "      <td>my friend's attempted and i dont know how to r...</td>\n",
              "      <td>hi, i just got a suicidal note/message from a ...</td>\n",
              "      <td>Suicide</td>\n",
              "      <td>my friend's attempted and i dont know how to r...</td>\n",
              "    </tr>\n",
              "    <tr>\n",
              "      <th>20</th>\n",
              "      <td>Im scared of myself</td>\n",
              "      <td>I literally think about it hourly. Im so hideo...</td>\n",
              "      <td>Suicide</td>\n",
              "      <td>Im scared of myself I literally think about it...</td>\n",
              "    </tr>\n",
              "    <tr>\n",
              "      <th>22</th>\n",
              "      <td>I dont want to die</td>\n",
              "      <td>But I dont really see a way out of this I have...</td>\n",
              "      <td>Suicide</td>\n",
              "      <td>I dont want to die But I dont really see a way...</td>\n",
              "    </tr>\n",
              "  </tbody>\n",
              "</table>\n",
              "</div>"
            ],
            "text/plain": [
              "                                                title  ...                                               text\n",
              "7                                    Suicidal Partner  ...  Suicidal Partner My boyfriend has been depress...\n",
              "10  Why does there always have to be a reason to f...  ...  Why does there always have to be a reason to f...\n",
              "17  my friend's attempted and i dont know how to r...  ...  my friend's attempted and i dont know how to r...\n",
              "20                                Im scared of myself  ...  Im scared of myself I literally think about it...\n",
              "22                                 I dont want to die  ...  I dont want to die But I dont really see a way...\n",
              "\n",
              "[5 rows x 4 columns]"
            ]
          },
          "metadata": {},
          "execution_count": 5
        }
      ]
    },
    {
      "cell_type": "code",
      "metadata": {
        "id": "wjspFHooG8LA",
        "colab": {
          "base_uri": "https://localhost:8080/",
          "height": 206
        },
        "outputId": "53e51a5a-5c6a-4037-c5c1-94b24619ce03"
      },
      "source": [
        "df.drop(columns=['title','selftext'], inplace=True)\n",
        "df.head()"
      ],
      "execution_count": 6,
      "outputs": [
        {
          "output_type": "execute_result",
          "data": {
            "text/html": [
              "<div>\n",
              "<style scoped>\n",
              "    .dataframe tbody tr th:only-of-type {\n",
              "        vertical-align: middle;\n",
              "    }\n",
              "\n",
              "    .dataframe tbody tr th {\n",
              "        vertical-align: top;\n",
              "    }\n",
              "\n",
              "    .dataframe thead th {\n",
              "        text-align: right;\n",
              "    }\n",
              "</style>\n",
              "<table border=\"1\" class=\"dataframe\">\n",
              "  <thead>\n",
              "    <tr style=\"text-align: right;\">\n",
              "      <th></th>\n",
              "      <th>class</th>\n",
              "      <th>text</th>\n",
              "    </tr>\n",
              "  </thead>\n",
              "  <tbody>\n",
              "    <tr>\n",
              "      <th>7</th>\n",
              "      <td>Suicide</td>\n",
              "      <td>Suicidal Partner My boyfriend has been depress...</td>\n",
              "    </tr>\n",
              "    <tr>\n",
              "      <th>10</th>\n",
              "      <td>Suicide</td>\n",
              "      <td>Why does there always have to be a reason to f...</td>\n",
              "    </tr>\n",
              "    <tr>\n",
              "      <th>17</th>\n",
              "      <td>Suicide</td>\n",
              "      <td>my friend's attempted and i dont know how to r...</td>\n",
              "    </tr>\n",
              "    <tr>\n",
              "      <th>20</th>\n",
              "      <td>Suicide</td>\n",
              "      <td>Im scared of myself I literally think about it...</td>\n",
              "    </tr>\n",
              "    <tr>\n",
              "      <th>22</th>\n",
              "      <td>Suicide</td>\n",
              "      <td>I dont want to die But I dont really see a way...</td>\n",
              "    </tr>\n",
              "  </tbody>\n",
              "</table>\n",
              "</div>"
            ],
            "text/plain": [
              "      class                                               text\n",
              "7   Suicide  Suicidal Partner My boyfriend has been depress...\n",
              "10  Suicide  Why does there always have to be a reason to f...\n",
              "17  Suicide  my friend's attempted and i dont know how to r...\n",
              "20  Suicide  Im scared of myself I literally think about it...\n",
              "22  Suicide  I dont want to die But I dont really see a way..."
            ]
          },
          "metadata": {},
          "execution_count": 6
        }
      ]
    },
    {
      "cell_type": "code",
      "metadata": {
        "id": "Ktrjh_ClHloF",
        "colab": {
          "base_uri": "https://localhost:8080/"
        },
        "outputId": "5f570367-0d70-4fa8-e7dc-28db6f1b6946"
      },
      "source": [
        "df.shape"
      ],
      "execution_count": 7,
      "outputs": [
        {
          "output_type": "execute_result",
          "data": {
            "text/plain": [
              "(377134, 2)"
            ]
          },
          "metadata": {},
          "execution_count": 7
        }
      ]
    },
    {
      "cell_type": "code",
      "metadata": {
        "id": "DowAv0oWHbBC",
        "colab": {
          "base_uri": "https://localhost:8080/"
        },
        "outputId": "db1ff1e8-2686-4032-bed5-f9f03c7e8817"
      },
      "source": [
        "# drop null value rows\n",
        "df = df.dropna()\n",
        "df.shape"
      ],
      "execution_count": 8,
      "outputs": [
        {
          "output_type": "execute_result",
          "data": {
            "text/plain": [
              "(363641, 2)"
            ]
          },
          "metadata": {},
          "execution_count": 8
        }
      ]
    },
    {
      "cell_type": "markdown",
      "metadata": {
        "id": "HIQ1_hoB3qqe"
      },
      "source": [
        "Step 2: Transform all text to lowercase"
      ]
    },
    {
      "cell_type": "code",
      "metadata": {
        "id": "99SKVsbG30sx",
        "colab": {
          "base_uri": "https://localhost:8080/",
          "height": 206
        },
        "outputId": "055df784-ae4a-4ad0-ebc9-caf6dc1955c9"
      },
      "source": [
        "df['text'] = df['text'].str.lower()\n",
        "df.head()"
      ],
      "execution_count": 9,
      "outputs": [
        {
          "output_type": "execute_result",
          "data": {
            "text/html": [
              "<div>\n",
              "<style scoped>\n",
              "    .dataframe tbody tr th:only-of-type {\n",
              "        vertical-align: middle;\n",
              "    }\n",
              "\n",
              "    .dataframe tbody tr th {\n",
              "        vertical-align: top;\n",
              "    }\n",
              "\n",
              "    .dataframe thead th {\n",
              "        text-align: right;\n",
              "    }\n",
              "</style>\n",
              "<table border=\"1\" class=\"dataframe\">\n",
              "  <thead>\n",
              "    <tr style=\"text-align: right;\">\n",
              "      <th></th>\n",
              "      <th>class</th>\n",
              "      <th>text</th>\n",
              "    </tr>\n",
              "  </thead>\n",
              "  <tbody>\n",
              "    <tr>\n",
              "      <th>7</th>\n",
              "      <td>Suicide</td>\n",
              "      <td>suicidal partner my boyfriend has been depress...</td>\n",
              "    </tr>\n",
              "    <tr>\n",
              "      <th>10</th>\n",
              "      <td>Suicide</td>\n",
              "      <td>why does there always have to be a reason to f...</td>\n",
              "    </tr>\n",
              "    <tr>\n",
              "      <th>17</th>\n",
              "      <td>Suicide</td>\n",
              "      <td>my friend's attempted and i dont know how to r...</td>\n",
              "    </tr>\n",
              "    <tr>\n",
              "      <th>20</th>\n",
              "      <td>Suicide</td>\n",
              "      <td>im scared of myself i literally think about it...</td>\n",
              "    </tr>\n",
              "    <tr>\n",
              "      <th>22</th>\n",
              "      <td>Suicide</td>\n",
              "      <td>i dont want to die but i dont really see a way...</td>\n",
              "    </tr>\n",
              "  </tbody>\n",
              "</table>\n",
              "</div>"
            ],
            "text/plain": [
              "      class                                               text\n",
              "7   Suicide  suicidal partner my boyfriend has been depress...\n",
              "10  Suicide  why does there always have to be a reason to f...\n",
              "17  Suicide  my friend's attempted and i dont know how to r...\n",
              "20  Suicide  im scared of myself i literally think about it...\n",
              "22  Suicide  i dont want to die but i dont really see a way..."
            ]
          },
          "metadata": {},
          "execution_count": 9
        }
      ]
    },
    {
      "cell_type": "code",
      "metadata": {
        "id": "TpDuT04NJKHB",
        "colab": {
          "base_uri": "https://localhost:8080/",
          "height": 206
        },
        "outputId": "90441501-4b63-45d9-ada2-43471ec8fb2c"
      },
      "source": [
        "df = df[['text', 'class']]\n",
        "df.head()"
      ],
      "execution_count": 10,
      "outputs": [
        {
          "output_type": "execute_result",
          "data": {
            "text/html": [
              "<div>\n",
              "<style scoped>\n",
              "    .dataframe tbody tr th:only-of-type {\n",
              "        vertical-align: middle;\n",
              "    }\n",
              "\n",
              "    .dataframe tbody tr th {\n",
              "        vertical-align: top;\n",
              "    }\n",
              "\n",
              "    .dataframe thead th {\n",
              "        text-align: right;\n",
              "    }\n",
              "</style>\n",
              "<table border=\"1\" class=\"dataframe\">\n",
              "  <thead>\n",
              "    <tr style=\"text-align: right;\">\n",
              "      <th></th>\n",
              "      <th>text</th>\n",
              "      <th>class</th>\n",
              "    </tr>\n",
              "  </thead>\n",
              "  <tbody>\n",
              "    <tr>\n",
              "      <th>7</th>\n",
              "      <td>suicidal partner my boyfriend has been depress...</td>\n",
              "      <td>Suicide</td>\n",
              "    </tr>\n",
              "    <tr>\n",
              "      <th>10</th>\n",
              "      <td>why does there always have to be a reason to f...</td>\n",
              "      <td>Suicide</td>\n",
              "    </tr>\n",
              "    <tr>\n",
              "      <th>17</th>\n",
              "      <td>my friend's attempted and i dont know how to r...</td>\n",
              "      <td>Suicide</td>\n",
              "    </tr>\n",
              "    <tr>\n",
              "      <th>20</th>\n",
              "      <td>im scared of myself i literally think about it...</td>\n",
              "      <td>Suicide</td>\n",
              "    </tr>\n",
              "    <tr>\n",
              "      <th>22</th>\n",
              "      <td>i dont want to die but i dont really see a way...</td>\n",
              "      <td>Suicide</td>\n",
              "    </tr>\n",
              "  </tbody>\n",
              "</table>\n",
              "</div>"
            ],
            "text/plain": [
              "                                                 text    class\n",
              "7   suicidal partner my boyfriend has been depress...  Suicide\n",
              "10  why does there always have to be a reason to f...  Suicide\n",
              "17  my friend's attempted and i dont know how to r...  Suicide\n",
              "20  im scared of myself i literally think about it...  Suicide\n",
              "22  i dont want to die but i dont really see a way...  Suicide"
            ]
          },
          "metadata": {},
          "execution_count": 10
        }
      ]
    },
    {
      "cell_type": "markdown",
      "metadata": {
        "id": "-DoJIoXT4AL4"
      },
      "source": [
        "Step 3: Remove any links from the data using regex (starts with https://)"
      ]
    },
    {
      "cell_type": "code",
      "metadata": {
        "id": "G3uUnb-x4JQX",
        "colab": {
          "base_uri": "https://localhost:8080/",
          "height": 206
        },
        "outputId": "d9ffe5a9-9002-41b7-beb4-8c6f48917a01"
      },
      "source": [
        "df['text'] = df['text'].str.replace('https:\\S+|www.\\S+', '', case=False)\n",
        "df.head()"
      ],
      "execution_count": 11,
      "outputs": [
        {
          "output_type": "execute_result",
          "data": {
            "text/html": [
              "<div>\n",
              "<style scoped>\n",
              "    .dataframe tbody tr th:only-of-type {\n",
              "        vertical-align: middle;\n",
              "    }\n",
              "\n",
              "    .dataframe tbody tr th {\n",
              "        vertical-align: top;\n",
              "    }\n",
              "\n",
              "    .dataframe thead th {\n",
              "        text-align: right;\n",
              "    }\n",
              "</style>\n",
              "<table border=\"1\" class=\"dataframe\">\n",
              "  <thead>\n",
              "    <tr style=\"text-align: right;\">\n",
              "      <th></th>\n",
              "      <th>text</th>\n",
              "      <th>class</th>\n",
              "    </tr>\n",
              "  </thead>\n",
              "  <tbody>\n",
              "    <tr>\n",
              "      <th>7</th>\n",
              "      <td>suicidal partner my boyfriend has been depress...</td>\n",
              "      <td>Suicide</td>\n",
              "    </tr>\n",
              "    <tr>\n",
              "      <th>10</th>\n",
              "      <td>why does there always have to be a reason to f...</td>\n",
              "      <td>Suicide</td>\n",
              "    </tr>\n",
              "    <tr>\n",
              "      <th>17</th>\n",
              "      <td>my friend's attempted and i dont know how to r...</td>\n",
              "      <td>Suicide</td>\n",
              "    </tr>\n",
              "    <tr>\n",
              "      <th>20</th>\n",
              "      <td>im scared of myself i literally think about it...</td>\n",
              "      <td>Suicide</td>\n",
              "    </tr>\n",
              "    <tr>\n",
              "      <th>22</th>\n",
              "      <td>i dont want to die but i dont really see a way...</td>\n",
              "      <td>Suicide</td>\n",
              "    </tr>\n",
              "  </tbody>\n",
              "</table>\n",
              "</div>"
            ],
            "text/plain": [
              "                                                 text    class\n",
              "7   suicidal partner my boyfriend has been depress...  Suicide\n",
              "10  why does there always have to be a reason to f...  Suicide\n",
              "17  my friend's attempted and i dont know how to r...  Suicide\n",
              "20  im scared of myself i literally think about it...  Suicide\n",
              "22  i dont want to die but i dont really see a way...  Suicide"
            ]
          },
          "metadata": {},
          "execution_count": 11
        }
      ]
    },
    {
      "cell_type": "code",
      "metadata": {
        "id": "u_Y-aoKY31NM"
      },
      "source": [
        "df.iloc[138456]['text']"
      ],
      "execution_count": null,
      "outputs": []
    },
    {
      "cell_type": "markdown",
      "metadata": {
        "id": "Y1pvZJLv3xku"
      },
      "source": [
        "Step 5: Tokenize, remove punctuation and excessive characters,  and remove stop words using NLTK library"
      ]
    },
    {
      "cell_type": "code",
      "metadata": {
        "id": "4JaKqK8A31pX",
        "colab": {
          "base_uri": "https://localhost:8080/",
          "height": 206
        },
        "outputId": "061311aa-b773-4f35-8232-a9f0515905ac"
      },
      "source": [
        "df['token_text'] = df.apply(lambda row: nltk.word_tokenize(row['text']), axis=1)\n",
        "df.head()"
      ],
      "execution_count": 12,
      "outputs": [
        {
          "output_type": "execute_result",
          "data": {
            "text/html": [
              "<div>\n",
              "<style scoped>\n",
              "    .dataframe tbody tr th:only-of-type {\n",
              "        vertical-align: middle;\n",
              "    }\n",
              "\n",
              "    .dataframe tbody tr th {\n",
              "        vertical-align: top;\n",
              "    }\n",
              "\n",
              "    .dataframe thead th {\n",
              "        text-align: right;\n",
              "    }\n",
              "</style>\n",
              "<table border=\"1\" class=\"dataframe\">\n",
              "  <thead>\n",
              "    <tr style=\"text-align: right;\">\n",
              "      <th></th>\n",
              "      <th>text</th>\n",
              "      <th>class</th>\n",
              "      <th>token_text</th>\n",
              "    </tr>\n",
              "  </thead>\n",
              "  <tbody>\n",
              "    <tr>\n",
              "      <th>7</th>\n",
              "      <td>suicidal partner my boyfriend has been depress...</td>\n",
              "      <td>Suicide</td>\n",
              "      <td>[suicidal, partner, my, boyfriend, has, been, ...</td>\n",
              "    </tr>\n",
              "    <tr>\n",
              "      <th>10</th>\n",
              "      <td>why does there always have to be a reason to f...</td>\n",
              "      <td>Suicide</td>\n",
              "      <td>[why, does, there, always, have, to, be, a, re...</td>\n",
              "    </tr>\n",
              "    <tr>\n",
              "      <th>17</th>\n",
              "      <td>my friend's attempted and i dont know how to r...</td>\n",
              "      <td>Suicide</td>\n",
              "      <td>[my, friend, 's, attempted, and, i, dont, know...</td>\n",
              "    </tr>\n",
              "    <tr>\n",
              "      <th>20</th>\n",
              "      <td>im scared of myself i literally think about it...</td>\n",
              "      <td>Suicide</td>\n",
              "      <td>[im, scared, of, myself, i, literally, think, ...</td>\n",
              "    </tr>\n",
              "    <tr>\n",
              "      <th>22</th>\n",
              "      <td>i dont want to die but i dont really see a way...</td>\n",
              "      <td>Suicide</td>\n",
              "      <td>[i, dont, want, to, die, but, i, dont, really,...</td>\n",
              "    </tr>\n",
              "  </tbody>\n",
              "</table>\n",
              "</div>"
            ],
            "text/plain": [
              "                                                 text  ...                                         token_text\n",
              "7   suicidal partner my boyfriend has been depress...  ...  [suicidal, partner, my, boyfriend, has, been, ...\n",
              "10  why does there always have to be a reason to f...  ...  [why, does, there, always, have, to, be, a, re...\n",
              "17  my friend's attempted and i dont know how to r...  ...  [my, friend, 's, attempted, and, i, dont, know...\n",
              "20  im scared of myself i literally think about it...  ...  [im, scared, of, myself, i, literally, think, ...\n",
              "22  i dont want to die but i dont really see a way...  ...  [i, dont, want, to, die, but, i, dont, really,...\n",
              "\n",
              "[5 rows x 3 columns]"
            ]
          },
          "metadata": {},
          "execution_count": 12
        }
      ]
    },
    {
      "cell_type": "code",
      "metadata": {
        "id": "hZkrDI-k4hpm",
        "colab": {
          "base_uri": "https://localhost:8080/",
          "height": 206
        },
        "outputId": "93d1967b-4633-4f3c-9b46-b533c0141ade"
      },
      "source": [
        "stop_words = nltk.corpus.stopwords.words(\"english\")\n",
        "df['token_text'] = df['token_text'].apply(lambda x: [item for item in x if item not in stop_words] )\n",
        "df.head()"
      ],
      "execution_count": 13,
      "outputs": [
        {
          "output_type": "execute_result",
          "data": {
            "text/html": [
              "<div>\n",
              "<style scoped>\n",
              "    .dataframe tbody tr th:only-of-type {\n",
              "        vertical-align: middle;\n",
              "    }\n",
              "\n",
              "    .dataframe tbody tr th {\n",
              "        vertical-align: top;\n",
              "    }\n",
              "\n",
              "    .dataframe thead th {\n",
              "        text-align: right;\n",
              "    }\n",
              "</style>\n",
              "<table border=\"1\" class=\"dataframe\">\n",
              "  <thead>\n",
              "    <tr style=\"text-align: right;\">\n",
              "      <th></th>\n",
              "      <th>text</th>\n",
              "      <th>class</th>\n",
              "      <th>token_text</th>\n",
              "    </tr>\n",
              "  </thead>\n",
              "  <tbody>\n",
              "    <tr>\n",
              "      <th>7</th>\n",
              "      <td>suicidal partner my boyfriend has been depress...</td>\n",
              "      <td>Suicide</td>\n",
              "      <td>[suicidal, partner, boyfriend, depressed, suic...</td>\n",
              "    </tr>\n",
              "    <tr>\n",
              "      <th>10</th>\n",
              "      <td>why does there always have to be a reason to f...</td>\n",
              "      <td>Suicide</td>\n",
              "      <td>[always, reason, feel, ?, im, honest, dad, im,...</td>\n",
              "    </tr>\n",
              "    <tr>\n",
              "      <th>17</th>\n",
              "      <td>my friend's attempted and i dont know how to r...</td>\n",
              "      <td>Suicide</td>\n",
              "      <td>[friend, 's, attempted, dont, know, reach, hi,...</td>\n",
              "    </tr>\n",
              "    <tr>\n",
              "      <th>20</th>\n",
              "      <td>im scared of myself i literally think about it...</td>\n",
              "      <td>Suicide</td>\n",
              "      <td>[im, scared, literally, think, hourly, ., im, ...</td>\n",
              "    </tr>\n",
              "    <tr>\n",
              "      <th>22</th>\n",
              "      <td>i dont want to die but i dont really see a way...</td>\n",
              "      <td>Suicide</td>\n",
              "      <td>[dont, want, die, dont, really, see, way, depr...</td>\n",
              "    </tr>\n",
              "  </tbody>\n",
              "</table>\n",
              "</div>"
            ],
            "text/plain": [
              "                                                 text  ...                                         token_text\n",
              "7   suicidal partner my boyfriend has been depress...  ...  [suicidal, partner, boyfriend, depressed, suic...\n",
              "10  why does there always have to be a reason to f...  ...  [always, reason, feel, ?, im, honest, dad, im,...\n",
              "17  my friend's attempted and i dont know how to r...  ...  [friend, 's, attempted, dont, know, reach, hi,...\n",
              "20  im scared of myself i literally think about it...  ...  [im, scared, literally, think, hourly, ., im, ...\n",
              "22  i dont want to die but i dont really see a way...  ...  [dont, want, die, dont, really, see, way, depr...\n",
              "\n",
              "[5 rows x 3 columns]"
            ]
          },
          "metadata": {},
          "execution_count": 13
        }
      ]
    },
    {
      "cell_type": "code",
      "metadata": {
        "id": "r98j7ZTTUSRZ",
        "colab": {
          "base_uri": "https://localhost:8080/",
          "height": 206
        },
        "outputId": "26c84dd0-133f-4ff8-eb00-32c5cf0ab0a6"
      },
      "source": [
        "# remove punctuation, non-letter characters\n",
        "df['token_text'] = df['token_text'].apply(lambda x: [item for item in x if re.match('[a-z]+', item)] )\n",
        "df.head()"
      ],
      "execution_count": 14,
      "outputs": [
        {
          "output_type": "execute_result",
          "data": {
            "text/html": [
              "<div>\n",
              "<style scoped>\n",
              "    .dataframe tbody tr th:only-of-type {\n",
              "        vertical-align: middle;\n",
              "    }\n",
              "\n",
              "    .dataframe tbody tr th {\n",
              "        vertical-align: top;\n",
              "    }\n",
              "\n",
              "    .dataframe thead th {\n",
              "        text-align: right;\n",
              "    }\n",
              "</style>\n",
              "<table border=\"1\" class=\"dataframe\">\n",
              "  <thead>\n",
              "    <tr style=\"text-align: right;\">\n",
              "      <th></th>\n",
              "      <th>text</th>\n",
              "      <th>class</th>\n",
              "      <th>token_text</th>\n",
              "    </tr>\n",
              "  </thead>\n",
              "  <tbody>\n",
              "    <tr>\n",
              "      <th>7</th>\n",
              "      <td>suicidal partner my boyfriend has been depress...</td>\n",
              "      <td>Suicide</td>\n",
              "      <td>[suicidal, partner, boyfriend, depressed, suic...</td>\n",
              "    </tr>\n",
              "    <tr>\n",
              "      <th>10</th>\n",
              "      <td>why does there always have to be a reason to f...</td>\n",
              "      <td>Suicide</td>\n",
              "      <td>[always, reason, feel, im, honest, dad, im, an...</td>\n",
              "    </tr>\n",
              "    <tr>\n",
              "      <th>17</th>\n",
              "      <td>my friend's attempted and i dont know how to r...</td>\n",
              "      <td>Suicide</td>\n",
              "      <td>[friend, attempted, dont, know, reach, hi, got...</td>\n",
              "    </tr>\n",
              "    <tr>\n",
              "      <th>20</th>\n",
              "      <td>im scared of myself i literally think about it...</td>\n",
              "      <td>Suicide</td>\n",
              "      <td>[im, scared, literally, think, hourly, im, hid...</td>\n",
              "    </tr>\n",
              "    <tr>\n",
              "      <th>22</th>\n",
              "      <td>i dont want to die but i dont really see a way...</td>\n",
              "      <td>Suicide</td>\n",
              "      <td>[dont, want, die, dont, really, see, way, depr...</td>\n",
              "    </tr>\n",
              "  </tbody>\n",
              "</table>\n",
              "</div>"
            ],
            "text/plain": [
              "                                                 text  ...                                         token_text\n",
              "7   suicidal partner my boyfriend has been depress...  ...  [suicidal, partner, boyfriend, depressed, suic...\n",
              "10  why does there always have to be a reason to f...  ...  [always, reason, feel, im, honest, dad, im, an...\n",
              "17  my friend's attempted and i dont know how to r...  ...  [friend, attempted, dont, know, reach, hi, got...\n",
              "20  im scared of myself i literally think about it...  ...  [im, scared, literally, think, hourly, im, hid...\n",
              "22  i dont want to die but i dont really see a way...  ...  [dont, want, die, dont, really, see, way, depr...\n",
              "\n",
              "[5 rows x 3 columns]"
            ]
          },
          "metadata": {},
          "execution_count": 14
        }
      ]
    },
    {
      "cell_type": "markdown",
      "metadata": {
        "id": "POY5HhIw4L0I"
      },
      "source": [
        "Dataset Information"
      ]
    },
    {
      "cell_type": "code",
      "metadata": {
        "id": "kurfP1Ac4izC",
        "colab": {
          "base_uri": "https://localhost:8080/"
        },
        "outputId": "1a1ceb30-ccf3-432a-a8d2-038bd5dc9322"
      },
      "source": [
        "df.info()"
      ],
      "execution_count": 13,
      "outputs": [
        {
          "output_type": "stream",
          "name": "stdout",
          "text": [
            "<class 'pandas.core.frame.DataFrame'>\n",
            "Index: 363641 entries, 7 to 163158\n",
            "Data columns (total 3 columns):\n",
            " #   Column      Non-Null Count   Dtype \n",
            "---  ------      --------------   ----- \n",
            " 0   text        363641 non-null  object\n",
            " 1   class       363641 non-null  object\n",
            " 2   token_text  363641 non-null  object\n",
            "dtypes: object(3)\n",
            "memory usage: 11.1+ MB\n"
          ]
        }
      ]
    },
    {
      "cell_type": "code",
      "metadata": {
        "id": "ruzdHTLBbPoC",
        "colab": {
          "base_uri": "https://localhost:8080/",
          "height": 629
        },
        "outputId": "d694e6b0-eea5-413d-8609-76ba3ca6944b"
      },
      "source": [
        "# class distribution\n",
        "plt.figure(figsize = (15,10))\n",
        "ax = sns.countplot(x='class',data=df)\n",
        "plt.title(\"Trigger Warning Class Distribution in Dataset\", size = 18)\n",
        "plt.xlabel(\"Class\", size = 12)\n",
        "plt.ylabel(\"Count\", size = 12)\n",
        "plt.show()\n"
      ],
      "execution_count": 24,
      "outputs": [
        {
          "output_type": "display_data",
          "data": {
            "image/png": "[encoded data removed]",
            "text/plain": [
              "<Figure size 1080x720 with 1 Axes>"
            ]
          },
          "metadata": {
            "needs_background": "light"
          }
        }
      ]
    },
    {
      "cell_type": "code",
      "metadata": {
        "id": "vn_URq0bsSzE",
        "colab": {
          "base_uri": "https://localhost:8080/"
        },
        "outputId": "471d1f46-7613-4650-b36f-0dfa2fb3b212"
      },
      "source": [
        "df['class'].value_counts()"
      ],
      "execution_count": 15,
      "outputs": [
        {
          "output_type": "execute_result",
          "data": {
            "text/plain": [
              "Eating Disorder      73381\n",
              "Anxiety              71917\n",
              "Depression           69463\n",
              "Suicide              66509\n",
              "PTSD                 29965\n",
              "Abuse                19144\n",
              "Dysmorphia           17904\n",
              "Domestic Violence     9329\n",
              "Death                 6029\n",
              "Name: class, dtype: int64"
            ]
          },
          "metadata": {},
          "execution_count": 15
        }
      ]
    },
    {
      "cell_type": "code",
      "metadata": {
        "id": "osrz1sQsuOSb",
        "colab": {
          "base_uri": "https://localhost:8080/",
          "height": 625
        },
        "outputId": "b601fd77-2b99-48a5-fb4e-a026272faf64"
      },
      "source": [
        "# post tokenized text lengths\n",
        "length = [len(text) for text in df['token_text']]\n",
        "\n",
        "plt.figure(figsize = (15,10))\n",
        "plt.hist(length, bins=50)\n",
        "plt.title(\"Tokenize Text Length Distribution\", size = 18)\n",
        "plt.xlabel(\"Number of Tokens\")\n",
        "plt.ylabel(\"Number of Posts\")\n",
        "plt.show()"
      ],
      "execution_count": 26,
      "outputs": [
        {
          "output_type": "display_data",
          "data": {
            "image/png": "[encoded data removed]",
            "text/plain": [
              "<Figure size 1080x720 with 1 Axes>"
            ]
          },
          "metadata": {
            "needs_background": "light"
          }
        }
      ]
    },
    {
      "cell_type": "code",
      "metadata": {
        "id": "MYbqH4MU1IVI"
      },
      "source": [
        ""
      ],
      "execution_count": null,
      "outputs": []
    },
    {
      "cell_type": "markdown",
      "metadata": {
        "id": "IYm-Vy1hoTxZ"
      },
      "source": [
        "note: use token_text for word2vec models for the CNN, NN approaches. Use text for tfidf with encoder for classes"
      ]
    },
    {
      "cell_type": "markdown",
      "metadata": {
        "id": "SUvtiEx52JFy"
      },
      "source": [
        "**Modeling**"
      ]
    },
    {
      "cell_type": "code",
      "metadata": {
        "id": "Nc9FOp9y2-aE"
      },
      "source": [
        "from sklearn.preprocessing import LabelEncoder\n",
        "from sklearn.feature_extraction.text import TfidfVectorizer\n",
        "from sklearn import model_selection, svm\n",
        "from sklearn.metrics import accuracy_score\n",
        "import sklearn.metrics\n",
        "from sklearn.feature_extraction.text import TfidfVectorizer\n",
        "from sklearn.metrics                 import accuracy_score, recall_score, roc_auc_score, matthews_corrcoef"
      ],
      "execution_count": 15,
      "outputs": []
    },
    {
      "cell_type": "code",
      "metadata": {
        "id": "ij5zmPdE2dpC"
      },
      "source": [
        "X = df['token_text'].astype(str)\n",
        "Y = df['class'].astype(str)"
      ],
      "execution_count": 39,
      "outputs": []
    },
    {
      "cell_type": "markdown",
      "metadata": {
        "id": "TTgCB9-E2ONs"
      },
      "source": [
        "Train-Test Split (80-20 split)"
      ]
    },
    {
      "cell_type": "code",
      "metadata": {
        "id": "1xu93bap2biu"
      },
      "source": [
        "X_train, X_test, y_train, y_test = model_selection.train_test_split(X,Y,random_state = 42, test_size=0.2, stratify=Y)"
      ],
      "execution_count": 40,
      "outputs": []
    },
    {
      "cell_type": "code",
      "metadata": {
        "id": "rL4A-0Wm3uES",
        "colab": {
          "base_uri": "https://localhost:8080/"
        },
        "outputId": "5c00deae-02af-4ec6-8687-76c188717d9f"
      },
      "source": [
        "print(X_train.shape)\n",
        "print(X_test.shape)"
      ],
      "execution_count": 41,
      "outputs": [
        {
          "output_type": "stream",
          "name": "stdout",
          "text": [
            "(290912,)\n",
            "(72729,)\n"
          ]
        }
      ]
    },
    {
      "cell_type": "markdown",
      "metadata": {
        "id": "jw_gx3p834Qo"
      },
      "source": [
        "Encode class categories "
      ]
    },
    {
      "cell_type": "code",
      "metadata": {
        "id": "JLxR1KSqvzgn"
      },
      "source": [
        "classes_names = [\n",
        "                 'Suicide',\n",
        "                 'Depression',\n",
        "                 'PTSD',\n",
        "                 'Anxiety',\n",
        "                 'Eating Disorder',\n",
        "                 'Dysmorphia',\n",
        "                 'Domestic Violence',\n",
        "                 'Death',\n",
        "                 'Abuse'\n",
        "]"
      ],
      "execution_count": 23,
      "outputs": []
    },
    {
      "cell_type": "code",
      "metadata": {
        "id": "5qmrMvQ237pu",
        "colab": {
          "base_uri": "https://localhost:8080/"
        },
        "outputId": "531e05b9-cefc-4044-afe2-0903dd4ee212"
      },
      "source": [
        "encoder = LabelEncoder()\n",
        "encoder.fit(classes_names)\n",
        "y_train_enc = encoder.fit_transform(y_train)\n",
        "y_test_enc = encoder.transform(y_test)\n",
        "print(encoder.classes_)"
      ],
      "execution_count": 42,
      "outputs": [
        {
          "output_type": "stream",
          "name": "stdout",
          "text": [
            "['Abuse' 'Anxiety' 'Death' 'Depression' 'Domestic Violence' 'Dysmorphia'\n",
            " 'Eating Disorder' 'PTSD' 'Suicide']\n"
          ]
        }
      ]
    },
    {
      "cell_type": "code",
      "metadata": {
        "id": "qD_2-eG375ca",
        "colab": {
          "base_uri": "https://localhost:8080/"
        },
        "outputId": "7b5d3684-862c-4a4d-b7f7-169cba2b8485"
      },
      "source": [
        "integer_mapping = {l: i for i, l in enumerate(encoder.classes_)}\n",
        "print(integer_mapping)"
      ],
      "execution_count": 71,
      "outputs": [
        {
          "output_type": "stream",
          "name": "stdout",
          "text": [
            "{'Abuse': 0, 'Anxiety': 1, 'Death': 2, 'Depression': 3, 'Domestic Violence': 4, 'Dysmorphia': 5, 'Eating Disorder': 6, 'PTSD': 7, 'Suicide': 8}\n"
          ]
        }
      ]
    },
    {
      "cell_type": "markdown",
      "metadata": {
        "id": "j6PVo9Sp5mEH"
      },
      "source": [
        "TF-DIF Vectorizer\n"
      ]
    },
    {
      "cell_type": "code",
      "metadata": {
        "id": "Hz7_TJVS8zy2"
      },
      "source": [
        "X"
      ],
      "execution_count": null,
      "outputs": []
    },
    {
      "cell_type": "code",
      "metadata": {
        "id": "iLngRGCS5pUA"
      },
      "source": [
        "Tfidf_vect = TfidfVectorizer(max_features=5000)\n",
        "Tfidf_vect.fit(X)\n",
        "Train_X_trans = Tfidf_vect.transform(X_train)\n",
        "Test_X_trans = Tfidf_vect.transform(X_test)"
      ],
      "execution_count": 49,
      "outputs": []
    },
    {
      "cell_type": "code",
      "metadata": {
        "id": "zkHhqUvp7LN9",
        "colab": {
          "base_uri": "https://localhost:8080/"
        },
        "outputId": "7e5faccd-c7a7-4b47-8ce6-7f000d39628b"
      },
      "source": [
        "vocab_dict = Tfidf_vect.vocabulary_\n",
        "x = sorted(vocab_dict.items(), key=lambda x: x[1], reverse=True)\n",
        "x"
      ],
      "execution_count": 50,
      "outputs": [
        {
          "output_type": "execute_result",
          "data": {
            "text/plain": [
              "[('zoom', 4999),\n",
              " ('zone', 4998),\n",
              " ('zombie', 4997),\n",
              " ('zoloft', 4996),\n",
              " ('zero', 4995),\n",
              " ('yrs', 4994),\n",
              " ('yr', 4993),\n",
              " ('youve', 4992),\n",
              " ('youtube', 4991),\n",
              " ('youth', 4990),\n",
              " ('youre', 4989),\n",
              " ('youngest', 4988),\n",
              " ('younger', 4987),\n",
              " ('young', 4986),\n",
              " ('youll', 4985),\n",
              " ('youd', 4984),\n",
              " ('you', 4983),\n",
              " ('yogurt', 4982),\n",
              " ('yoga', 4981),\n",
              " ('yo', 4980),\n",
              " ('yet', 4979),\n",
              " ('yesterday', 4978),\n",
              " ('yes', 4977),\n",
              " ('yells', 4976),\n",
              " ('yelling', 4975),\n",
              " ('yelled', 4974),\n",
              " ('yell', 4973),\n",
              " ('years', 4972),\n",
              " ('year', 4971),\n",
              " ('yeah', 4970),\n",
              " ('yea', 4969),\n",
              " ('yay', 4968),\n",
              " ('yard', 4967),\n",
              " ('yall', 4966),\n",
              " ('ya', 4965),\n",
              " ('xanax', 4964),\n",
              " ('x200b', 4963),\n",
              " ('wtf', 4962),\n",
              " ('wrote', 4961),\n",
              " ('wrong', 4960),\n",
              " ('written', 4959),\n",
              " ('writing', 4958),\n",
              " ('write', 4957),\n",
              " ('wrists', 4956),\n",
              " ('wrist', 4955),\n",
              " ('wreck', 4954),\n",
              " ('wrapped', 4953),\n",
              " ('wrap', 4952),\n",
              " ('wow', 4951),\n",
              " ('wounds', 4950),\n",
              " ('wound', 4949),\n",
              " ('wouldve', 4948),\n",
              " ('wouldnt', 4947),\n",
              " ('would', 4946),\n",
              " ('worthy', 4945),\n",
              " ('worthless', 4944),\n",
              " ('worth', 4943),\n",
              " ('worst', 4942),\n",
              " ('worsening', 4941),\n",
              " ('worsened', 4940),\n",
              " ('worse', 4939),\n",
              " ('worrying', 4938),\n",
              " ('worry', 4937),\n",
              " ('worries', 4936),\n",
              " ('worried', 4935),\n",
              " ('worn', 4934),\n",
              " ('world', 4933),\n",
              " ('works', 4932),\n",
              " ('workplace', 4931),\n",
              " ('workouts', 4930),\n",
              " ('workout', 4929),\n",
              " ('working', 4928),\n",
              " ('workers', 4927),\n",
              " ('worker', 4926),\n",
              " ('worked', 4925),\n",
              " ('work', 4924),\n",
              " ('wore', 4923),\n",
              " ('words', 4922),\n",
              " ('word', 4921),\n",
              " ('woods', 4920),\n",
              " ('wont', 4919),\n",
              " ('wonders', 4918),\n",
              " ('wondering', 4917),\n",
              " ('wonderful', 4916),\n",
              " ('wondered', 4915),\n",
              " ('wonder', 4914),\n",
              " ('women', 4913),\n",
              " ('woman', 4912),\n",
              " ('woken', 4911),\n",
              " ('woke', 4910),\n",
              " ('wo', 4909),\n",
              " ('witnessed', 4908),\n",
              " ('witness', 4907),\n",
              " ('without', 4906),\n",
              " ('within', 4905),\n",
              " ('withdrawal', 4904),\n",
              " ('wishing', 4903),\n",
              " ('wishes', 4902),\n",
              " ('wished', 4901),\n",
              " ('wish', 4900),\n",
              " ('wise', 4899),\n",
              " ('wisdom', 4898),\n",
              " ('winter', 4897),\n",
              " ('winning', 4896),\n",
              " ('wine', 4895),\n",
              " ('windows', 4894),\n",
              " ('window', 4893),\n",
              " ('wind', 4892),\n",
              " ('win', 4891),\n",
              " ('willpower', 4890),\n",
              " ('willing', 4889),\n",
              " ('wild', 4888),\n",
              " ('wife', 4887),\n",
              " ('wide', 4886),\n",
              " ('whose', 4885),\n",
              " ('whos', 4884),\n",
              " ('whore', 4883),\n",
              " ('whole', 4882),\n",
              " ('whoever', 4881),\n",
              " ('white', 4880),\n",
              " ('whilst', 4879),\n",
              " ('whether', 4878),\n",
              " ('wherever', 4877),\n",
              " ('whereas', 4876),\n",
              " ('whenever', 4875),\n",
              " ('wheel', 4874),\n",
              " ('whatsoever', 4873),\n",
              " ('whats', 4872),\n",
              " ('whatnot', 4871),\n",
              " ('whatever', 4870),\n",
              " ('what', 4869),\n",
              " ('weve', 4868),\n",
              " ('wet', 4867),\n",
              " ('werent', 4866),\n",
              " ('went', 4865),\n",
              " ('wellbutrin', 4864),\n",
              " ('well', 4863),\n",
              " ('welcome', 4862),\n",
              " ('weirdly', 4861),\n",
              " ('weird', 4860),\n",
              " ('weights', 4859),\n",
              " ('weight', 4858),\n",
              " ('weighs', 4857),\n",
              " ('weighing', 4856),\n",
              " ('weighed', 4855),\n",
              " ('weigh', 4854),\n",
              " ('weeks', 4853),\n",
              " ('weekly', 4852),\n",
              " ('weekends', 4851),\n",
              " ('weekend', 4850),\n",
              " ('week', 4849),\n",
              " ('weed', 4848),\n",
              " ('wednesday', 4847),\n",
              " ('wedding', 4846),\n",
              " ('wed', 4845),\n",
              " ('website', 4844),\n",
              " ('web', 4843),\n",
              " ('weather', 4842),\n",
              " ('wearing', 4841),\n",
              " ('wear', 4840),\n",
              " ('weakness', 4839),\n",
              " ('weak', 4838),\n",
              " ('ways', 4837),\n",
              " ('way', 4836),\n",
              " ('waves', 4835),\n",
              " ('wave', 4834),\n",
              " ('water', 4833),\n",
              " ('watching', 4832),\n",
              " ('watched', 4831),\n",
              " ('watch', 4830),\n",
              " ('wasting', 4829),\n",
              " ('wasted', 4828),\n",
              " ('waste', 4827),\n",
              " ('wasnt', 4826),\n",
              " ('washing', 4825),\n",
              " ('washed', 4824),\n",
              " ('wash', 4823),\n",
              " ('was', 4822),\n",
              " ('warning', 4821),\n",
              " ('warned', 4820),\n",
              " ('warm', 4819),\n",
              " ('ward', 4818),\n",
              " ('war', 4817),\n",
              " ('wants', 4816),\n",
              " ('wanting', 4815),\n",
              " ('wanted', 4814),\n",
              " ('want', 4813),\n",
              " ('wan', 4812),\n",
              " ('walls', 4811),\n",
              " ('wall', 4810),\n",
              " ('walks', 4809),\n",
              " ('walking', 4808),\n",
              " ('walked', 4807),\n",
              " ('walk', 4806),\n",
              " ('waking', 4805),\n",
              " ('wakes', 4804),\n",
              " ('wake', 4803),\n",
              " ('waiting', 4802),\n",
              " ('waited', 4801),\n",
              " ('wait', 4800),\n",
              " ('waist', 4799),\n",
              " ('wage', 4798),\n",
              " ('vulnerable', 4797),\n",
              " ('vs', 4796),\n",
              " ('vomiting', 4795),\n",
              " ('vomit', 4794),\n",
              " ('volume', 4793),\n",
              " ('void', 4792),\n",
              " ('voices', 4791),\n",
              " ('voice', 4790),\n",
              " ('vodka', 4789),\n",
              " ('vivid', 4788),\n",
              " ('vitamins', 4787),\n",
              " ('vitamin', 4786),\n",
              " ('visual', 4785),\n",
              " ('visits', 4784),\n",
              " ('visiting', 4783),\n",
              " ('visited', 4782),\n",
              " ('visit', 4781),\n",
              " ('vision', 4780),\n",
              " ('visibly', 4779),\n",
              " ('visible', 4778),\n",
              " ('virus', 4777),\n",
              " ('virtually', 4776),\n",
              " ('virtual', 4775),\n",
              " ('virginity', 4774),\n",
              " ('virgin', 4773),\n",
              " ('violently', 4772),\n",
              " ('violent', 4771),\n",
              " ('violence', 4770),\n",
              " ('violated', 4769),\n",
              " ('views', 4768),\n",
              " ('view', 4767),\n",
              " ('videos', 4766),\n",
              " ('videogames', 4765),\n",
              " ('video', 4764),\n",
              " ('victory', 4763),\n",
              " ('victims', 4762),\n",
              " ('victim', 4761),\n",
              " ('vicious', 4760),\n",
              " ('vibes', 4759),\n",
              " ('vibe', 4758),\n",
              " ('via', 4757),\n",
              " ('veterans', 4756),\n",
              " ('veteran', 4755),\n",
              " ('vet', 4754),\n",
              " ('version', 4753),\n",
              " ('verge', 4752),\n",
              " ('verbally', 4751),\n",
              " ('verbal', 4750),\n",
              " ('venting', 4749),\n",
              " ('vent', 4748),\n",
              " ('veins', 4747),\n",
              " ('vehicle', 4746),\n",
              " ('veggies', 4745),\n",
              " ('vegetables', 4744),\n",
              " ('vegan', 4743),\n",
              " ('various', 4742),\n",
              " ('values', 4741),\n",
              " ('value', 4740),\n",
              " ('valuable', 4739),\n",
              " ('validation', 4738),\n",
              " ('validated', 4737),\n",
              " ('validate', 4736),\n",
              " ('valid', 4735),\n",
              " ('vain', 4734),\n",
              " ('vague', 4733),\n",
              " ('vaccine', 4732),\n",
              " ('vaccinated', 4731),\n",
              " ('vacation', 4730),\n",
              " ('uw', 4729),\n",
              " ('utterly', 4728),\n",
              " ('utter', 4727),\n",
              " ('usually', 4726),\n",
              " ('usual', 4725),\n",
              " ('using', 4724),\n",
              " ('uses', 4723),\n",
              " ('username', 4722),\n",
              " ('user', 4721),\n",
              " ('useless', 4720),\n",
              " ('useful', 4719),\n",
              " ('used', 4718),\n",
              " ('use', 4717),\n",
              " ('usa', 4716),\n",
              " ('us', 4715),\n",
              " ('urges', 4714),\n",
              " ('urgent', 4713),\n",
              " ('urge', 4712),\n",
              " ('ur', 4711),\n",
              " ('upstairs', 4710),\n",
              " ('upside', 4709),\n",
              " ('upsetting', 4708),\n",
              " ('upsets', 4707),\n",
              " ('upset', 4706),\n",
              " ('ups', 4705),\n",
              " ('upper', 4704),\n",
              " ('upped', 4703),\n",
              " ('upon', 4702),\n",
              " ('update', 4701),\n",
              " ('upcoming', 4700),\n",
              " ('upbringing', 4699),\n",
              " ('up', 4698),\n",
              " ('unworthy', 4697),\n",
              " ('unwell', 4696),\n",
              " ('unwanted', 4695),\n",
              " ('unusual', 4694),\n",
              " ('unsure', 4693),\n",
              " ('unstable', 4692),\n",
              " ('unsafe', 4691),\n",
              " ('unrelated', 4690),\n",
              " ('unreasonable', 4689),\n",
              " ('unrealistic', 4688),\n",
              " ('unpleasant', 4687),\n",
              " ('unnecessary', 4686),\n",
              " ('unmotivated', 4685),\n",
              " ('unloved', 4684),\n",
              " ('unlovable', 4683),\n",
              " ('unlikely', 4682),\n",
              " ('unlike', 4681),\n",
              " ('unless', 4680),\n",
              " ('unknown', 4679),\n",
              " ('university', 4678),\n",
              " ('universe', 4677),\n",
              " ('unit', 4676),\n",
              " ('unique', 4675),\n",
              " ('unintentionally', 4674),\n",
              " ('uni', 4673),\n",
              " ('unhealthy', 4672),\n",
              " ('unhappy', 4671),\n",
              " ('ungrateful', 4670),\n",
              " ('unfortunately', 4669),\n",
              " ('unfortunate', 4668),\n",
              " ('unfair', 4667),\n",
              " ('unexpectedly', 4666),\n",
              " ('unexpected', 4665),\n",
              " ('unemployment', 4664),\n",
              " ('unemployed', 4663),\n",
              " ('uneasy', 4662),\n",
              " ('undiagnosed', 4661),\n",
              " ('underweight', 4660),\n",
              " ('underwear', 4659),\n",
              " ('understood', 4658),\n",
              " ('understands', 4657),\n",
              " ('understanding', 4656),\n",
              " ('understandable', 4655),\n",
              " ('understand', 4654),\n",
              " ('underneath', 4653),\n",
              " ('underlying', 4652),\n",
              " ('uncontrollably', 4651),\n",
              " ('uncontrollable', 4650),\n",
              " ('unconscious', 4649),\n",
              " ('uncomfortable', 4648),\n",
              " ('uncle', 4647),\n",
              " ('uncertainty', 4646),\n",
              " ('unbelievably', 4645),\n",
              " ('unbearable', 4644),\n",
              " ('unaware', 4643),\n",
              " ('unattractive', 4642),\n",
              " ('unable', 4641),\n",
              " ('un', 4640),\n",
              " ('ultimately', 4639),\n",
              " ('ultimate', 4638),\n",
              " ('uk', 4637),\n",
              " ('uh', 4636),\n",
              " ('ugw', 4635),\n",
              " ('ugly', 4634),\n",
              " ('ugliest', 4633),\n",
              " ('uglier', 4632),\n",
              " ('ugh', 4631),\n",
              " ('uber', 4630),\n",
              " ('typing', 4629),\n",
              " ('typically', 4628),\n",
              " ('typical', 4627),\n",
              " ('types', 4626),\n",
              " ('type', 4625),\n",
              " ('two', 4624),\n",
              " ('twitter', 4623),\n",
              " ('twitching', 4622),\n",
              " ('twisted', 4621),\n",
              " ('twin', 4620),\n",
              " ('twice', 4619),\n",
              " ('twenty', 4618),\n",
              " ('twenties', 4617),\n",
              " ('tw', 4616),\n",
              " ('tv', 4615),\n",
              " ('turns', 4614),\n",
              " ('turning', 4613),\n",
              " ('turned', 4612),\n",
              " ('turn', 4611),\n",
              " ('turkey', 4610),\n",
              " ('tunnel', 4609),\n",
              " ('tumor', 4608),\n",
              " ('tummy', 4607),\n",
              " ('tumblr', 4606),\n",
              " ('tuesday', 4605),\n",
              " ('trying', 4604),\n",
              " ('try', 4603),\n",
              " ('truth', 4602),\n",
              " ('trusting', 4601),\n",
              " ('trusted', 4600),\n",
              " ('trust', 4599),\n",
              " ('truly', 4598),\n",
              " ('true', 4597),\n",
              " ('truck', 4596),\n",
              " ('troubles', 4595),\n",
              " ('trouble', 4594),\n",
              " ('trivial', 4593),\n",
              " ('trips', 4592),\n",
              " ('tripping', 4591),\n",
              " ('trip', 4590),\n",
              " ('triggers', 4589),\n",
              " ('triggering', 4588),\n",
              " ('triggered', 4587),\n",
              " ('trigger', 4586),\n",
              " ('tries', 4585),\n",
              " ('tried', 4584),\n",
              " ('tricks', 4583),\n",
              " ('trick', 4582),\n",
              " ('trial', 4581),\n",
              " ('trembling', 4580),\n",
              " ('tree', 4579),\n",
              " ('treats', 4578),\n",
              " ('treatments', 4577),\n",
              " ('treatment', 4576),\n",
              " ('treating', 4575),\n",
              " ('treated', 4574),\n",
              " ('treat', 4573),\n",
              " ('traveling', 4572),\n",
              " ('travel', 4571),\n",
              " ('traumatizing', 4570),\n",
              " ('traumatized', 4569),\n",
              " ('traumatic', 4568),\n",
              " ('traumas', 4567),\n",
              " ('trauma', 4566),\n",
              " ('trash', 4565),\n",
              " ('trapped', 4564),\n",
              " ('trap', 4563),\n",
              " ('transition', 4562),\n",
              " ('transfer', 4561),\n",
              " ('trans', 4560),\n",
              " ('traits', 4559),\n",
              " ('training', 4558),\n",
              " ('trained', 4557),\n",
              " ('train', 4556),\n",
              " ('tragic', 4555),\n",
              " ('traffic', 4554),\n",
              " ('trade', 4553),\n",
              " ('tracks', 4552),\n",
              " ('tracking', 4551),\n",
              " ('track', 4550),\n",
              " ('toxic', 4549),\n",
              " ('town', 4548),\n",
              " ('towards', 4547),\n",
              " ('toward', 4546),\n",
              " ('tough', 4545),\n",
              " ('touching', 4544),\n",
              " ('touched', 4543),\n",
              " ('touch', 4542),\n",
              " ('totally', 4541),\n",
              " ('total', 4540),\n",
              " ('tortured', 4539),\n",
              " ('torture', 4538),\n",
              " ('torn', 4537),\n",
              " ('torment', 4536),\n",
              " ('topics', 4535),\n",
              " ('topic', 4534),\n",
              " ('top', 4533),\n",
              " ('tooth', 4532),\n",
              " ('tools', 4531),\n",
              " ('tool', 4530),\n",
              " ('took', 4529),\n",
              " ('tons', 4528),\n",
              " ('tonight', 4527),\n",
              " ('tongue', 4526),\n",
              " ('tone', 4525),\n",
              " ('ton', 4524),\n",
              " ('tomorrow', 4523),\n",
              " ('toll', 4522),\n",
              " ('tolerate', 4521),\n",
              " ('tolerance', 4520),\n",
              " ('told', 4519),\n",
              " ('toilet', 4518),\n",
              " ('together', 4517),\n",
              " ('toddler', 4516),\n",
              " ('today', 4515),\n",
              " ('toast', 4514),\n",
              " ('to', 4513),\n",
              " ('tmi', 4512),\n",
              " ('tldr', 4511),\n",
              " ('tl', 4510),\n",
              " ('title', 4509),\n",
              " ('tiring', 4508),\n",
              " ('tired', 4507),\n",
              " ('tips', 4506),\n",
              " ('tip', 4505),\n",
              " ('tiny', 4504),\n",
              " ('tingling', 4503),\n",
              " ('tinder', 4502),\n",
              " ('times', 4501),\n",
              " ('time', 4500),\n",
              " ('till', 4499),\n",
              " ('til', 4498),\n",
              " ('tiktok', 4497),\n",
              " ('tightness', 4496),\n",
              " ('tight', 4495),\n",
              " ('ties', 4494),\n",
              " ('tied', 4493),\n",
              " ('tie', 4492),\n",
              " ('tickets', 4491),\n",
              " ('ticket', 4490),\n",
              " ('thyroid', 4489),\n",
              " ('thus', 4488),\n",
              " ('thursday', 4487),\n",
              " ('thru', 4486),\n",
              " ('throws', 4485),\n",
              " ('thrown', 4484),\n",
              " ('throwing', 4483),\n",
              " ('throwaway', 4482),\n",
              " ('throw', 4481),\n",
              " ('throughout', 4480),\n",
              " ('throat', 4479),\n",
              " ('threw', 4478),\n",
              " ('three', 4477),\n",
              " ('threats', 4476),\n",
              " ('threatens', 4475),\n",
              " ('threatening', 4474),\n",
              " ('threatened', 4473),\n",
              " ('threaten', 4472),\n",
              " ('threat', 4471),\n",
              " ('thread', 4470),\n",
              " ('thousands', 4469),\n",
              " ('thousand', 4468),\n",
              " ('thoughts', 4467),\n",
              " ('thought', 4466),\n",
              " ('though', 4465),\n",
              " ('tho', 4464),\n",
              " ('this', 4463),\n",
              " ('third', 4462),\n",
              " ('thinspo', 4461),\n",
              " ('thinner', 4460),\n",
              " ('thinks', 4459),\n",
              " ('thinking', 4458),\n",
              " ('think', 4457),\n",
              " ('things', 4456),\n",
              " ('thing', 4455),\n",
              " ('thin', 4454),\n",
              " ('thighs', 4453),\n",
              " ('thigh', 4452),\n",
              " ('thick', 4451),\n",
              " ('theyve', 4450),\n",
              " ('theyre', 4449),\n",
              " ('theyll', 4448),\n",
              " ('theyd', 4447),\n",
              " ('theres', 4446),\n",
              " ('therefore', 4445),\n",
              " ('therapy', 4444),\n",
              " ('therapists', 4443),\n",
              " ('therapist', 4442),\n",
              " ('theory', 4441),\n",
              " ('them', 4440),\n",
              " ('the', 4439),\n",
              " ('thats', 4438),\n",
              " ('thatll', 4437),\n",
              " ('that', 4436),\n",
              " ('thanksgiving', 4435),\n",
              " ('thanks', 4434),\n",
              " ('thankfully', 4433),\n",
              " ('thankful', 4432),\n",
              " ('thank', 4431),\n",
              " ('tf', 4430),\n",
              " ('texts', 4429),\n",
              " ('texting', 4428),\n",
              " ('texted', 4427),\n",
              " ('text', 4426),\n",
              " ('tests', 4425),\n",
              " ('testing', 4424),\n",
              " ('tested', 4423),\n",
              " ('test', 4422),\n",
              " ('terrors', 4421),\n",
              " ('terror', 4420),\n",
              " ('terrifying', 4419),\n",
              " ('terrifies', 4418),\n",
              " ('terrified', 4417),\n",
              " ('terribly', 4416),\n",
              " ('terrible', 4415),\n",
              " ('terms', 4414),\n",
              " ('terminal', 4413),\n",
              " ('term', 4412),\n",
              " ('tension', 4411),\n",
              " ('tense', 4410),\n",
              " ('tends', 4409),\n",
              " ('tendency', 4408),\n",
              " ('tendencies', 4407),\n",
              " ('tend', 4406),\n",
              " ('ten', 4405),\n",
              " ('tempted', 4404),\n",
              " ('temporary', 4403),\n",
              " ('temporarily', 4402),\n",
              " ('temperature', 4401),\n",
              " ('temper', 4400),\n",
              " ('tells', 4399),\n",
              " ('telling', 4398),\n",
              " ('tell', 4397),\n",
              " ('teeth', 4396),\n",
              " ('teens', 4395),\n",
              " ('teenagers', 4394),\n",
              " ('teenager', 4393),\n",
              " ('teenage', 4392),\n",
              " ('teen', 4391),\n",
              " ('techniques', 4390),\n",
              " ('technically', 4389),\n",
              " ('tech', 4388),\n",
              " ('tears', 4387),\n",
              " ('tearing', 4386),\n",
              " ('tear', 4385),\n",
              " ('team', 4384),\n",
              " ('teaching', 4383),\n",
              " ('teachers', 4382),\n",
              " ('teacher', 4381),\n",
              " ('teach', 4380),\n",
              " ('tea', 4379),\n",
              " ('tdee', 4378),\n",
              " ('tbh', 4377),\n",
              " ('taught', 4376),\n",
              " ('tattoo', 4375),\n",
              " ('tastes', 4374),\n",
              " ('taste', 4373),\n",
              " ('tasks', 4372),\n",
              " ('task', 4371),\n",
              " ('target', 4370),\n",
              " ('tank', 4369),\n",
              " ('taller', 4368),\n",
              " ('tall', 4367),\n",
              " ('talks', 4366),\n",
              " ('talking', 4365),\n",
              " ('talked', 4364),\n",
              " ('talk', 4363),\n",
              " ('talented', 4362),\n",
              " ('talent', 4361),\n",
              " ('taking', 4360),\n",
              " ('takes', 4359),\n",
              " ('taken', 4358),\n",
              " ('take', 4357),\n",
              " ('tablets', 4356),\n",
              " ('table', 4355),\n",
              " ('ta', 4354),\n",
              " ('system', 4353),\n",
              " ('syndrome', 4352),\n",
              " ('symptoms', 4351),\n",
              " ('symptom', 4350),\n",
              " ('sympathy', 4349),\n",
              " ('swore', 4348),\n",
              " ('swollen', 4347),\n",
              " ('switching', 4346),\n",
              " ('switched', 4345),\n",
              " ('switch', 4344),\n",
              " ('swings', 4343),\n",
              " ('swing', 4342),\n",
              " ('swimming', 4341),\n",
              " ('swim', 4340),\n",
              " ('sweets', 4339),\n",
              " ('sweet', 4338),\n",
              " ('sweaty', 4337),\n",
              " ('sweats', 4336),\n",
              " ('sweating', 4335),\n",
              " ('sweat', 4334),\n",
              " ('swear', 4333),\n",
              " ('swallowing', 4332),\n",
              " ('swallow', 4331),\n",
              " ('suspicious', 4330),\n",
              " ('suspected', 4329),\n",
              " ('suspect', 4328),\n",
              " ('survivors', 4327),\n",
              " ('survivor', 4326),\n",
              " ('surviving', 4325),\n",
              " ('survived', 4324),\n",
              " ('survive', 4323),\n",
              " ('survival', 4322),\n",
              " ('survey', 4321),\n",
              " ('surroundings', 4320),\n",
              " ('surrounding', 4319),\n",
              " ('surrounded', 4318),\n",
              " ('surprisingly', 4317),\n",
              " ('surprised', 4316),\n",
              " ('surprise', 4315),\n",
              " ('surgery', 4314),\n",
              " ('surgeries', 4313),\n",
              " ('surface', 4312),\n",
              " ('surely', 4311),\n",
              " ('sure', 4310),\n",
              " ('suppress', 4309),\n",
              " ('supposedly', 4308),\n",
              " ('supposed', 4307),\n",
              " ('suppose', 4306),\n",
              " ('supports', 4305),\n",
              " ('supportive', 4304),\n",
              " ('supporting', 4303),\n",
              " ('supported', 4302),\n",
              " ('support', 4301),\n",
              " ('supplements', 4300),\n",
              " ('supervisor', 4299),\n",
              " ('superficial', 4298),\n",
              " ('super', 4297),\n",
              " ('sunday', 4296),\n",
              " ('sun', 4295),\n",
              " ('summer', 4294),\n",
              " ('sum', 4293),\n",
              " ('suit', 4292),\n",
              " ('suicide', 4291),\n",
              " ('suicidal', 4290),\n",
              " ('suggestions', 4289),\n",
              " ('suggested', 4288),\n",
              " ('suggest', 4287),\n",
              " ('sugar', 4286),\n",
              " ('suffocating', 4285),\n",
              " ('suffers', 4284),\n",
              " ('suffering', 4283),\n",
              " ('sufferers', 4282),\n",
              " ('suffered', 4281),\n",
              " ('suffer', 4280),\n",
              " ('suddenly', 4279),\n",
              " ('sudden', 4278),\n",
              " ('sucks', 4277),\n",
              " ('sucking', 4276),\n",
              " ('sucked', 4275),\n",
              " ('suck', 4274),\n",
              " ('successfully', 4273),\n",
              " ('successful', 4272),\n",
              " ('success', 4271),\n",
              " ('succeed', 4270),\n",
              " ('subtle', 4269),\n",
              " ('substances', 4268),\n",
              " ('substance', 4267),\n",
              " ('subs', 4266),\n",
              " ('subreddits', 4265),\n",
              " ('subreddit', 4264),\n",
              " ('subjects', 4263),\n",
              " ('subject', 4262),\n",
              " ('subconsciously', 4261),\n",
              " ('subconscious', 4260),\n",
              " ('sub', 4259),\n",
              " ('style', 4258),\n",
              " ('stupidly', 4257),\n",
              " ('stupid', 4256),\n",
              " ('stuffed', 4255),\n",
              " ('stuff', 4254),\n",
              " ('studying', 4253),\n",
              " ('study', 4252),\n",
              " ('studies', 4251),\n",
              " ('studied', 4250),\n",
              " ('students', 4249),\n",
              " ('student', 4248),\n",
              " ('stuck', 4247),\n",
              " ('stubborn', 4246),\n",
              " ('struggling', 4245),\n",
              " ('struggles', 4244),\n",
              " ('struggled', 4243),\n",
              " ('struggle', 4242),\n",
              " ('structure', 4241),\n",
              " ('struck', 4240),\n",
              " ('strongly', 4239),\n",
              " ('stronger', 4238),\n",
              " ('strong', 4237),\n",
              " ('stroke', 4236),\n",
              " ('string', 4235),\n",
              " ('strict', 4234),\n",
              " ('stretch', 4233),\n",
              " ('stressing', 4232),\n",
              " ('stressful', 4231),\n",
              " ('stresses', 4230),\n",
              " ('stressed', 4229),\n",
              " ('stress', 4228),\n",
              " ('strength', 4227),\n",
              " ('streets', 4226),\n",
              " ('street', 4225),\n",
              " ('stream', 4224),\n",
              " ('straw', 4223),\n",
              " ('strategies', 4222),\n",
              " ('strangled', 4221),\n",
              " ('strangers', 4220),\n",
              " ('stranger', 4219),\n",
              " ('strange', 4218),\n",
              " ('strain', 4217),\n",
              " ('straight', 4216),\n",
              " ('story', 4215),\n",
              " ('storm', 4214),\n",
              " ('stories', 4213),\n",
              " ('stores', 4212),\n",
              " ('store', 4211),\n",
              " ('stops', 4210),\n",
              " ('stopping', 4209),\n",
              " ('stopped', 4208),\n",
              " ('stop', 4207),\n",
              " ('stood', 4206),\n",
              " ('stone', 4205),\n",
              " ('stomach', 4204),\n",
              " ('stolen', 4203),\n",
              " ('stole', 4202),\n",
              " ('still', 4201),\n",
              " ('stigma', 4200),\n",
              " ('sticks', 4199),\n",
              " ('sticking', 4198),\n",
              " ('stick', 4197),\n",
              " ('steps', 4196),\n",
              " ('stepping', 4195),\n",
              " ('stepped', 4194),\n",
              " ('stepdad', 4193),\n",
              " ('step', 4192),\n",
              " ('stems', 4191),\n",
              " ('stem', 4190),\n",
              " ('stealing', 4189),\n",
              " ('steal', 4188),\n",
              " ('steady', 4187),\n",
              " ('stays', 4186),\n",
              " ('staying', 4185),\n",
              " ('stayed', 4184),\n",
              " ('stay', 4183),\n",
              " ('status', 4182),\n",
              " ('station', 4181),\n",
              " ('stating', 4180),\n",
              " ('states', 4179),\n",
              " ('statement', 4178),\n",
              " ('stated', 4177),\n",
              " ('state', 4176),\n",
              " ('starving', 4175),\n",
              " ('starved', 4174),\n",
              " ('starve', 4173),\n",
              " ('starvation', 4172),\n",
              " ('starts', 4171),\n",
              " ('starting', 4170),\n",
              " ('started', 4169),\n",
              " ('start', 4168),\n",
              " ('stars', 4167),\n",
              " ('staring', 4166),\n",
              " ('stared', 4165),\n",
              " ('stare', 4164),\n",
              " ('stands', 4163),\n",
              " ('standing', 4162),\n",
              " ('standards', 4161),\n",
              " ('standard', 4160),\n",
              " ('stand', 4159),\n",
              " ('stalking', 4158),\n",
              " ('stalked', 4157),\n",
              " ('stairs', 4156),\n",
              " ('stages', 4155),\n",
              " ('stage', 4154),\n",
              " ('staff', 4153),\n",
              " ('stable', 4152),\n",
              " ('stability', 4151),\n",
              " ('stabbing', 4150),\n",
              " ('stabbed', 4149),\n",
              " ('stab', 4148),\n",
              " ('ssris', 4147),\n",
              " ('ssri', 4146),\n",
              " ('square', 4145),\n",
              " ('spring', 4144),\n",
              " ('spreading', 4143),\n",
              " ('spread', 4142),\n",
              " ('spouse', 4141),\n",
              " ('spots', 4140),\n",
              " ('spot', 4139),\n",
              " ('sports', 4138),\n",
              " ('sport', 4137),\n",
              " ('spoken', 4136),\n",
              " ('spoke', 4135),\n",
              " ('spoiled', 4134),\n",
              " ('split', 4133),\n",
              " ('spitting', 4132),\n",
              " ('spite', 4131),\n",
              " ('spit', 4130),\n",
              " ('spiritual', 4129),\n",
              " ('spirit', 4128),\n",
              " ('spiralling', 4127),\n",
              " ('spiraling', 4126),\n",
              " ('spiraled', 4125),\n",
              " ('spiral', 4124),\n",
              " ('spinning', 4123),\n",
              " ('spine', 4122),\n",
              " ('spent', 4121),\n",
              " ('spending', 4120),\n",
              " ('spend', 4119),\n",
              " ('speed', 4118),\n",
              " ('speech', 4117),\n",
              " ('spectrum', 4116),\n",
              " ('specifically', 4115),\n",
              " ('specific', 4114),\n",
              " ('specialist', 4113),\n",
              " ('special', 4112),\n",
              " ('speaks', 4111),\n",
              " ('speaking', 4110),\n",
              " ('speak', 4109),\n",
              " ('spark', 4108),\n",
              " ('spare', 4107),\n",
              " ('span', 4106),\n",
              " ('spaces', 4105),\n",
              " ('space', 4104),\n",
              " ('south', 4103),\n",
              " ('source', 4102),\n",
              " ('soup', 4101),\n",
              " ('sounds', 4100),\n",
              " ('sounding', 4099),\n",
              " ('sounded', 4098),\n",
              " ('sound', 4097),\n",
              " ('soul', 4096),\n",
              " ('sought', 4095),\n",
              " ('sorts', 4094),\n",
              " ('sorta', 4093),\n",
              " ('sort', 4092),\n",
              " ('sorry', 4091),\n",
              " ('sore', 4090),\n",
              " ('sophomore', 4089),\n",
              " ('soooo', 4088),\n",
              " ('sooo', 4087),\n",
              " ('sooner', 4086),\n",
              " ('soon', 4085),\n",
              " ('soo', 4084),\n",
              " ('sons', 4083),\n",
              " ('songs', 4082),\n",
              " ('song', 4081),\n",
              " ('son', 4080),\n",
              " ('somewhere', 4079),\n",
              " ('somewhat', 4078),\n",
              " ('sometimes', 4077),\n",
              " ('sometime', 4076),\n",
              " ('somethings', 4075),\n",
              " ('something', 4074),\n",
              " ('someones', 4073),\n",
              " ('someone', 4072),\n",
              " ('somehow', 4071),\n",
              " ('someday', 4070),\n",
              " ('somebody', 4069),\n",
              " ('solve', 4068),\n",
              " ('solutions', 4067),\n",
              " ('solution', 4066),\n",
              " ('solid', 4065),\n",
              " ('solely', 4064),\n",
              " ('sole', 4063),\n",
              " ('sold', 4062),\n",
              " ('soft', 4061),\n",
              " ('soda', 4060),\n",
              " ('society', 4059),\n",
              " ('socially', 4058),\n",
              " ('socializing', 4057),\n",
              " ('socialize', 4056),\n",
              " ('social', 4055),\n",
              " ('sober', 4054),\n",
              " ('sobbing', 4053),\n",
              " ('sob', 4052),\n",
              " ('so', 4051),\n",
              " ('snow', 4050),\n",
              " ('snazzy', 4049),\n",
              " ('snapped', 4048),\n",
              " ('snapchat', 4047),\n",
              " ('snap', 4046),\n",
              " ('snacks', 4045),\n",
              " ('snack', 4044),\n",
              " ('smoking', 4043),\n",
              " ('smoked', 4042),\n",
              " ('smoke', 4041),\n",
              " ('smiling', 4040),\n",
              " ('smiled', 4039),\n",
              " ('smile', 4038),\n",
              " ('smells', 4037),\n",
              " ('smell', 4036),\n",
              " ('smashed', 4035),\n",
              " ('smart', 4034),\n",
              " ('smallest', 4033),\n",
              " ('smaller', 4032),\n",
              " ('small', 4031),\n",
              " ('slut', 4030),\n",
              " ('slowly', 4029),\n",
              " ('slow', 4028),\n",
              " ('slit', 4027),\n",
              " ('slipping', 4026),\n",
              " ('slipped', 4025),\n",
              " ('slip', 4024),\n",
              " ('slim', 4023),\n",
              " ('slightly', 4022),\n",
              " ('slightest', 4021),\n",
              " ('slight', 4020),\n",
              " ('slice', 4019),\n",
              " ('slept', 4018),\n",
              " ('sleepy', 4017),\n",
              " ('sleeps', 4016),\n",
              " ('sleeping', 4015),\n",
              " ('sleep', 4014),\n",
              " ('slave', 4013),\n",
              " ('slapping', 4012),\n",
              " ('slapped', 4011),\n",
              " ('slap', 4010),\n",
              " ('slamming', 4009),\n",
              " ('slammed', 4008),\n",
              " ('sky', 4007),\n",
              " ('skull', 4006),\n",
              " ('skipping', 4005),\n",
              " ('skipped', 4004),\n",
              " ('skip', 4003),\n",
              " ('skinny', 4002),\n",
              " ('skinnier', 4001),\n",
              " ('skin', 4000),\n",
              " ...]"
            ]
          },
          "metadata": {},
          "execution_count": 50
        }
      ]
    },
    {
      "cell_type": "markdown",
      "metadata": {
        "id": "vaEr1jiz9u9t"
      },
      "source": [
        "SVM Benchmark model"
      ]
    },
    {
      "cell_type": "code",
      "metadata": {
        "id": "amUc1TuN-M8f",
        "colab": {
          "base_uri": "https://localhost:8080/"
        },
        "outputId": "bdcf507e-821b-44c5-98d5-4113d8cb1af4"
      },
      "source": [
        "svm_model = svm.LinearSVC(random_state=42)\n",
        "svm_model.fit(Train_X_trans,y_train_enc)\n",
        "preds_SVM = svm_model.predict(Test_X_trans)\n",
        "print(svm_model.score(Test_X_trans,y_test_enc))\n",
        "print(svm_model.get_params())\n"
      ],
      "execution_count": 51,
      "outputs": [
        {
          "output_type": "stream",
          "name": "stdout",
          "text": [
            "0.764289348127982\n",
            "{'C': 1.0, 'class_weight': None, 'dual': True, 'fit_intercept': True, 'intercept_scaling': 1, 'loss': 'squared_hinge', 'max_iter': 1000, 'multi_class': 'ovr', 'penalty': 'l2', 'random_state': 42, 'tol': 0.0001, 'verbose': 0}\n"
          ]
        }
      ]
    },
    {
      "cell_type": "code",
      "metadata": {
        "id": "-JJtDvMK-0dx"
      },
      "source": [
        "labes = ['Abuse', 'Anxiety', 'Death', 'Depression', 'Domestic Violence', 'Dysmorphia','Eating Disorder','PTSD','Suicide']"
      ],
      "execution_count": 52,
      "outputs": []
    },
    {
      "cell_type": "code",
      "metadata": {
        "id": "16P7DcjfuxEr",
        "colab": {
          "base_uri": "https://localhost:8080/"
        },
        "outputId": "ffd68bef-c31a-4277-ea00-3ba641dc6906"
      },
      "source": [
        "print(\"SVM Accuracy Score\", accuracy_score(y_test_enc, preds_SVM))\n",
        "print(\"Confusion matrix:\\n\",sklearn.metrics.confusion_matrix(y_test_enc, preds_SVM))\n",
        "print(\"F1:\",sklearn.metrics.f1_score(y_test_enc, preds_SVM,average='weighted'))\n",
        "print(\"Precision:\", sklearn.metrics.precision_score(y_test_enc, preds_SVM,average='weighted'))\n",
        "print(\"Recall:\", sklearn.metrics.recall_score(y_test_enc, preds_SVM,average='weighted'))\n",
        "print(\"Classification Report:\\n\",sklearn.metrics.classification_report(y_test_enc, preds_SVM, target_names=labes))\n"
      ],
      "execution_count": 53,
      "outputs": [
        {
          "output_type": "stream",
          "name": "stdout",
          "text": [
            "SVM Accuracy Score 0.764289348127982\n",
            "Confusion matrix:\n",
            " [[ 2637   138     6   204   377    17    66   204   180]\n",
            " [   78 12326    45   950    14    68   290   208   404]\n",
            " [    8    85   756    98     6     3    26    18   206]\n",
            " [  161   961    99  8508    28   115   353   228  3440]\n",
            " [  622    48    10    74   895     2    18   119    78]\n",
            " [    6    98     5   109     1  2904   358    11    89]\n",
            " [   10   257     6   291     5   235 13659    34   179]\n",
            " [  174   487    22   347    52     9   102  4541   259]\n",
            " [  112   402   104  2828    23    81   236   156  9360]]\n",
            "F1: 0.7629891897621128\n",
            "Precision: 0.7631143909810717\n",
            "Recall: 0.764289348127982\n",
            "Classification Report:\n",
            "                    precision    recall  f1-score   support\n",
            "\n",
            "            Abuse       0.69      0.69      0.69      3829\n",
            "          Anxiety       0.83      0.86      0.84     14383\n",
            "            Death       0.72      0.63      0.67      1206\n",
            "       Depression       0.63      0.61      0.62     13893\n",
            "Domestic Violence       0.64      0.48      0.55      1866\n",
            "       Dysmorphia       0.85      0.81      0.83      3581\n",
            "  Eating Disorder       0.90      0.93      0.92     14676\n",
            "             PTSD       0.82      0.76      0.79      5993\n",
            "          Suicide       0.66      0.70      0.68     13302\n",
            "\n",
            "         accuracy                           0.76     72729\n",
            "        macro avg       0.75      0.72      0.73     72729\n",
            "     weighted avg       0.76      0.76      0.76     72729\n",
            "\n"
          ]
        }
      ]
    },
    {
      "cell_type": "code",
      "metadata": {
        "colab": {
          "base_uri": "https://localhost:8080/",
          "height": 901
        },
        "id": "dPk3szasuqLm",
        "outputId": "8c5ee0a9-ecb8-4301-a9a1-e6559a6c87b0"
      },
      "source": [
        "fig, ax = plt.subplots(figsize=(16, 16))\n",
        "x=sklearn.metrics.ConfusionMatrixDisplay(sklearn.metrics.confusion_matrix(y_test_enc, preds_SVM),display_labels=labes)\n",
        "x.plot(ax=ax)\n",
        "plt.show()"
      ],
      "execution_count": 55,
      "outputs": [
        {
          "output_type": "display_data",
          "data": {
            "image/png": "[encoded data removed]",
            "text/plain": [
              "<Figure size 1152x1152 with 2 Axes>"
            ]
          },
          "metadata": {
            "needs_background": "light"
          }
        }
      ]
    },
    {
      "cell_type": "markdown",
      "metadata": {
        "id": "883N9WUk4u4V"
      },
      "source": [
        "NB"
      ]
    },
    {
      "cell_type": "code",
      "metadata": {
        "id": "GPiafH3e4aeC"
      },
      "source": [
        "from sklearn.naive_bayes import MultinomialNB"
      ],
      "execution_count": 77,
      "outputs": []
    },
    {
      "cell_type": "code",
      "metadata": {
        "colab": {
          "base_uri": "https://localhost:8080/"
        },
        "id": "hpzUGVnr4w_E",
        "outputId": "62a8f5ca-5f53-4766-ddbb-84644c0ac7fc"
      },
      "source": [
        "mnb = MultinomialNB()\n",
        "mnb.fit(Train_X_trans,y_train_enc)\n",
        "preds_nb = mnb.predict(Test_X_trans)\n",
        "print(mnb.score(Test_X_trans,y_test_enc))\n",
        "print(mnb.get_params())"
      ],
      "execution_count": 78,
      "outputs": [
        {
          "output_type": "stream",
          "name": "stdout",
          "text": [
            "0.7017558332989592\n",
            "{'alpha': 1.0, 'class_prior': None, 'fit_prior': True}\n"
          ]
        }
      ]
    },
    {
      "cell_type": "code",
      "metadata": {
        "colab": {
          "base_uri": "https://localhost:8080/"
        },
        "id": "bURIipTK5MlA",
        "outputId": "1f20bff3-0668-42ff-b73e-aed7182a41bd"
      },
      "source": [
        "print(\"NB Accuracy Score\", accuracy_score(y_test_enc, preds_nb))\n",
        "print(\"Confusion matrix:\\n\",sklearn.metrics.confusion_matrix(y_test_enc, preds_nb))\n",
        "print(\"F1:\",sklearn.metrics.f1_score(y_test_enc, preds_nb,average='weighted'))\n",
        "print(\"Precision:\", sklearn.metrics.precision_score(y_test_enc, preds_nb,average='weighted'))\n",
        "print(\"Recall:\", sklearn.metrics.recall_score(y_test_enc, preds_nb,average='weighted'))\n",
        "print(\"Classification Report:\\n\",sklearn.metrics.classification_report(y_test_enc, preds_nb, target_names=labes))"
      ],
      "execution_count": 79,
      "outputs": [
        {
          "output_type": "stream",
          "name": "stdout",
          "text": [
            "NB Accuracy Score 0.7017558332989592\n",
            "Confusion matrix:\n",
            " [[ 2444   156     0   440   243    11    50   216   269]\n",
            " [  131 11403    14  1743    17    73   390   182   430]\n",
            " [   10   174   295   241     7     4    26    42   407]\n",
            " [  144  1458     5  8222    28    72   331   140  3493]\n",
            " [  712    60     1   132   664     1     7   161   128]\n",
            " [   10   161     0   249     0  2526   506    17   112]\n",
            " [   13   504     2   426     0   278 13196    43   214]\n",
            " [  274  1159     5   654    61     7    99  3375   359]\n",
            " [  105   541     8  3357    24    57   199    98  8913]]\n",
            "F1: 0.6994371225196885\n",
            "Precision: 0.7103976550274496\n",
            "Recall: 0.7017558332989592\n",
            "Classification Report:\n",
            "                    precision    recall  f1-score   support\n",
            "\n",
            "            Abuse       0.64      0.64      0.64      3829\n",
            "          Anxiety       0.73      0.79      0.76     14383\n",
            "            Death       0.89      0.24      0.38      1206\n",
            "       Depression       0.53      0.59      0.56     13893\n",
            "Domestic Violence       0.64      0.36      0.46      1866\n",
            "       Dysmorphia       0.83      0.71      0.76      3581\n",
            "  Eating Disorder       0.89      0.90      0.90     14676\n",
            "             PTSD       0.79      0.56      0.66      5993\n",
            "          Suicide       0.62      0.67      0.65     13302\n",
            "\n",
            "         accuracy                           0.70     72729\n",
            "        macro avg       0.73      0.61      0.64     72729\n",
            "     weighted avg       0.71      0.70      0.70     72729\n",
            "\n"
          ]
        }
      ]
    },
    {
      "cell_type": "code",
      "metadata": {
        "colab": {
          "base_uri": "https://localhost:8080/",
          "height": 907
        },
        "id": "Egj68J0Zu8sh",
        "outputId": "95d1aa22-b514-471d-fdd3-7c5660524281"
      },
      "source": [
        "fig, ax = plt.subplots(figsize=(16, 16))\n",
        "x=sklearn.metrics.ConfusionMatrixDisplay(sklearn.metrics.confusion_matrix(y_test_enc, preds_nb),display_labels=labes)\n",
        "x.plot(ax=ax)\n",
        "plt.show()"
      ],
      "execution_count": 80,
      "outputs": [
        {
          "output_type": "display_data",
          "data": {
            "image/png": "[encoded data removed]",
            "text/plain": [
              "<Figure size 1152x1152 with 2 Axes>"
            ]
          },
          "metadata": {
            "needs_background": "light"
          }
        }
      ]
    },
    {
      "cell_type": "code",
      "metadata": {
        "id": "_CAmL4JHbnXI"
      },
      "source": [
        ""
      ],
      "execution_count": null,
      "outputs": []
    },
    {
      "cell_type": "markdown",
      "metadata": {
        "id": "QAmm2lvpIcxn"
      },
      "source": [
        "Feed-Forward Neural Network (NN) with the following architecture (similar to that discussed by DOI: 10.1038/srep45141):\n",
        "- Embedding layer word vec dimension of 300. \n",
        "- flattened layer\n",
        "- dropout filter for 0.25\n",
        "- dense structure with 64 (FF)\n",
        "- Output layer with softmax activation \n",
        "\n",
        "using categorial cross entropy."
      ]
    },
    {
      "cell_type": "markdown",
      "metadata": {
        "id": "Ij3DVKlZtNCb"
      },
      "source": [
        "We will use word embeddings from the Word2Vec to input into the neural networks (instead of TF-IDF). Using CBOW defaults and window set to 5 as suggested in Kim et al [https://doi.org/10.1038/s41598-020-68764-y]"
      ]
    },
    {
      "cell_type": "code",
      "metadata": {
        "id": "QIgwkQDNsXtM"
      },
      "source": [
        "import gensim\n",
        "import keras\n",
        "from gensim.models import Word2Vec\n",
        "from tensorflow.keras import utils as np_utils\n",
        "from tensorflow.keras import preprocessing\n",
        "from keras.preprocessing.text import Tokenizer\n",
        "from keras.preprocessing.sequence import pad_sequences\n",
        "from tensorflow.keras import models, layers"
      ],
      "execution_count": 16,
      "outputs": []
    },
    {
      "cell_type": "code",
      "metadata": {
        "id": "o9UBLNNx2qTr"
      },
      "source": [
        "X = df['token_text']\n",
        "Y = df['class']"
      ],
      "execution_count": 56,
      "outputs": []
    },
    {
      "cell_type": "code",
      "metadata": {
        "id": "lUPOk-qtytv-"
      },
      "source": [
        "word_embeddings_model = Word2Vec(X,window=5,size=300)\n"
      ],
      "execution_count": 57,
      "outputs": []
    },
    {
      "cell_type": "code",
      "metadata": {
        "colab": {
          "base_uri": "https://localhost:8080/"
        },
        "id": "uhc_16X80PM8",
        "outputId": "7530f19f-e040-4273-d6cf-f7d579d0fbd5"
      },
      "source": [
        "print(word_embeddings_model)"
      ],
      "execution_count": 87,
      "outputs": [
        {
          "output_type": "stream",
          "name": "stdout",
          "text": [
            "Word2Vec(vocab=45171, size=300, alpha=0.025)\n"
          ]
        }
      ]
    },
    {
      "cell_type": "code",
      "metadata": {
        "colab": {
          "base_uri": "https://localhost:8080/"
        },
        "id": "kzNL-L13MxMy",
        "outputId": "4c9de802-dcd7-410e-fd79-3d457c3070e4"
      },
      "source": [
        "max_seq_len = max([len(s) for s in X])\n",
        "print(max_seq_len)"
      ],
      "execution_count": 58,
      "outputs": [
        {
          "output_type": "stream",
          "name": "stdout",
          "text": [
            "3341\n"
          ]
        }
      ]
    },
    {
      "cell_type": "code",
      "metadata": {
        "id": "PVD60Aow9ilX"
      },
      "source": [
        "X_train, X_test, y_train, y_test = model_selection.train_test_split(X,Y,random_state = 42, test_size=0.2, stratify=Y)"
      ],
      "execution_count": 59,
      "outputs": []
    },
    {
      "cell_type": "code",
      "metadata": {
        "id": "Z7R8gYjfAmvh"
      },
      "source": [
        "# change to x test and train sets\n",
        "token = Tokenizer()\n",
        "token.fit_on_texts(X)\n",
        "X_train = token.texts_to_sequences(X_train)\n",
        "X_train = pad_sequences(X_train, max_seq_len)\n",
        "X_test = token.texts_to_sequences(X_test)\n",
        "X_test = pad_sequences(X_test, max_seq_len)"
      ],
      "execution_count": 60,
      "outputs": []
    },
    {
      "cell_type": "code",
      "metadata": {
        "colab": {
          "base_uri": "https://localhost:8080/"
        },
        "id": "y6ivceRgAZ-H",
        "outputId": "1f45e546-dd1a-4f9b-c03e-5c6591b23d3b"
      },
      "source": [
        "# change this to deal with train and test sets\n",
        "encoder = LabelEncoder()\n",
        "encoder.fit(classes_names)\n",
        "Y_test = encoder.fit_transform(y_test)\n",
        "Y_test = np_utils.to_categorical(np.asarray(Y_test))\n",
        "Y_train = encoder.fit_transform(y_train)\n",
        "Y_train = np_utils.to_categorical(np.asarray(Y_train))\n",
        "print(encoder.classes_)\n",
        "print(Y_train[0])"
      ],
      "execution_count": 61,
      "outputs": [
        {
          "output_type": "stream",
          "name": "stdout",
          "text": [
            "['Abuse' 'Anxiety' 'Death' 'Depression' 'Domestic Violence' 'Dysmorphia'\n",
            " 'Eating Disorder' 'PTSD' 'Suicide']\n",
            "[0. 1. 0. 0. 0. 0. 0. 0. 0.]\n"
          ]
        }
      ]
    },
    {
      "cell_type": "code",
      "metadata": {
        "colab": {
          "base_uri": "https://localhost:8080/"
        },
        "id": "7_UGAheoCdQr",
        "outputId": "43421fb3-7636-432b-de71-c4f2ea6ec393"
      },
      "source": [
        "X_train.shape"
      ],
      "execution_count": 28,
      "outputs": [
        {
          "output_type": "execute_result",
          "data": {
            "text/plain": [
              "(290912, 3341)"
            ]
          },
          "metadata": {},
          "execution_count": 28
        }
      ]
    },
    {
      "cell_type": "code",
      "metadata": {
        "colab": {
          "base_uri": "https://localhost:8080/"
        },
        "id": "ecyH-Ze9Pdu7",
        "outputId": "fd959eaf-a200-4124-8c4b-2e9d1767a93c"
      },
      "source": [
        "Y_train.shape"
      ],
      "execution_count": 29,
      "outputs": [
        {
          "output_type": "execute_result",
          "data": {
            "text/plain": [
              "(290912, 9)"
            ]
          },
          "metadata": {},
          "execution_count": 29
        }
      ]
    },
    {
      "cell_type": "code",
      "metadata": {
        "id": "E5IatcsnDXk8"
      },
      "source": [
        "EMBED_DIM = 300\n",
        "VOCAB_SIZE = len(token.word_index)+1"
      ],
      "execution_count": 62,
      "outputs": []
    },
    {
      "cell_type": "code",
      "metadata": {
        "colab": {
          "base_uri": "https://localhost:8080/"
        },
        "id": "KyTao6MPJ5v2",
        "outputId": "69c0e2c6-147d-4424-e5bd-3a70ebd8d1b6"
      },
      "source": [
        "# create embedding matrix (https://blog.keras.io/using-pre-trained-word-embeddings-in-a-keras-model.html)\n",
        "word_index = token.word_index\n",
        "embedding_matrix = np.zeros(shape=(VOCAB_SIZE,EMBED_DIM))\n",
        "for word, i in word_index.items():\n",
        "  try:\n",
        "    embedding_vector = word_embeddings_model[word]\n",
        "      # words not found in embedding index will be all-zeros.\n",
        "    embedding_matrix[i] = embedding_vector\n",
        "  except:\n",
        "    pass"
      ],
      "execution_count": 63,
      "outputs": [
        {
          "output_type": "stream",
          "name": "stderr",
          "text": [
            "/usr/local/lib/python3.7/dist-packages/ipykernel_launcher.py:6: DeprecationWarning: Call to deprecated `__getitem__` (Method will be removed in 4.0.0, use self.wv.__getitem__() instead).\n",
            "  \n"
          ]
        }
      ]
    },
    {
      "cell_type": "code",
      "metadata": {
        "id": "Dy3vJ-uJCt_5"
      },
      "source": [
        "# build the keras model\n",
        "FF_model = models.Sequential() #remove max input length seq parameter?\n",
        "FF_model.add(layers.Embedding(VOCAB_SIZE,EMBED_DIM,weights=[embedding_matrix],input_length=max_seq_len, trainable=False))\n",
        "FF_model.add(layers.Flatten())\n",
        "FF_model.add(layers.Dropout(0.25))\n",
        "FF_model.add(layers.Dense(64,activation='relu'))\n",
        "FF_model.add(layers.Dense(9, activation='softmax'))\n"
      ],
      "execution_count": 64,
      "outputs": []
    },
    {
      "cell_type": "code",
      "metadata": {
        "id": "zBYO7jCdSXIz"
      },
      "source": [
        "from keras.callbacks import EarlyStopping\n",
        "callback = EarlyStopping(monitor='loss', patience=5)"
      ],
      "execution_count": 31,
      "outputs": []
    },
    {
      "cell_type": "code",
      "metadata": {
        "id": "I9qZGinZeOw0"
      },
      "source": [
        "FF_model.compile(loss=\"categorical_crossentropy\", optimizer='adam', metrics=['accuracy'])"
      ],
      "execution_count": 65,
      "outputs": []
    },
    {
      "cell_type": "code",
      "metadata": {
        "colab": {
          "base_uri": "https://localhost:8080/"
        },
        "id": "vAcy-hZJI57Q",
        "outputId": "7a9757bb-a2fe-499e-897c-ad0e5c3ef07c"
      },
      "source": [
        "FF_model.summary()"
      ],
      "execution_count": 66,
      "outputs": [
        {
          "output_type": "stream",
          "name": "stdout",
          "text": [
            "Model: \"sequential_1\"\n",
            "_________________________________________________________________\n",
            " Layer (type)                Output Shape              Param #   \n",
            "=================================================================\n",
            " embedding_1 (Embedding)     (None, 3341, 300)         64113300  \n",
            "                                                                 \n",
            " flatten_1 (Flatten)         (None, 1002300)           0         \n",
            "                                                                 \n",
            " dropout_1 (Dropout)         (None, 1002300)           0         \n",
            "                                                                 \n",
            " dense_2 (Dense)             (None, 64)                64147264  \n",
            "                                                                 \n",
            " dense_3 (Dense)             (None, 9)                 585       \n",
            "                                                                 \n",
            "=================================================================\n",
            "Total params: 128,261,149\n",
            "Trainable params: 64,147,849\n",
            "Non-trainable params: 64,113,300\n",
            "_________________________________________________________________\n"
          ]
        }
      ]
    },
    {
      "cell_type": "code",
      "metadata": {
        "colab": {
          "base_uri": "https://localhost:8080/"
        },
        "id": "x8OQMLLngQgL",
        "outputId": "2c0e01d2-fa76-4c19-d3ec-a3726c0acdce"
      },
      "source": [
        "FF_model.fit(X_train,Y_train, epochs=100,batch_size=64, validation_data=(X_test,Y_test),callbacks=callback)"
      ],
      "execution_count": 67,
      "outputs": [
        {
          "output_type": "stream",
          "name": "stdout",
          "text": [
            "Epoch 1/100\n",
            "4546/4546 [==============================] - 96s 21ms/step - loss: 1.0359 - accuracy: 0.6271 - val_loss: 0.9182 - val_accuracy: 0.6691\n",
            "Epoch 2/100\n",
            "4546/4546 [==============================] - 95s 21ms/step - loss: 0.8190 - accuracy: 0.7033 - val_loss: 0.9198 - val_accuracy: 0.6742\n",
            "Epoch 3/100\n",
            "4546/4546 [==============================] - 95s 21ms/step - loss: 0.7233 - accuracy: 0.7364 - val_loss: 0.9399 - val_accuracy: 0.6797\n",
            "Epoch 4/100\n",
            "4546/4546 [==============================] - 96s 21ms/step - loss: 0.6530 - accuracy: 0.7590 - val_loss: 0.9767 - val_accuracy: 0.6725\n",
            "Epoch 5/100\n",
            "4546/4546 [==============================] - 95s 21ms/step - loss: 0.6045 - accuracy: 0.7757 - val_loss: 1.0094 - val_accuracy: 0.6654\n",
            "Epoch 6/100\n",
            "4546/4546 [==============================] - 96s 21ms/step - loss: 0.5650 - accuracy: 0.7895 - val_loss: 1.0645 - val_accuracy: 0.6691\n",
            "Epoch 7/100\n",
            "4546/4546 [==============================] - 95s 21ms/step - loss: 0.5388 - accuracy: 0.7981 - val_loss: 1.0775 - val_accuracy: 0.6663\n",
            "Epoch 8/100\n",
            "4546/4546 [==============================] - 95s 21ms/step - loss: 0.5144 - accuracy: 0.8071 - val_loss: 1.1332 - val_accuracy: 0.6629\n",
            "Epoch 9/100\n",
            "4546/4546 [==============================] - 95s 21ms/step - loss: 0.4924 - accuracy: 0.8149 - val_loss: 1.1649 - val_accuracy: 0.6634\n",
            "Epoch 10/100\n",
            "4546/4546 [==============================] - 95s 21ms/step - loss: 0.4779 - accuracy: 0.8206 - val_loss: 1.1906 - val_accuracy: 0.6556\n",
            "Epoch 11/100\n",
            "4546/4546 [==============================] - 96s 21ms/step - loss: 0.4602 - accuracy: 0.8261 - val_loss: 1.2229 - val_accuracy: 0.6611\n",
            "Epoch 12/100\n",
            "4546/4546 [==============================] - 95s 21ms/step - loss: 0.4493 - accuracy: 0.8297 - val_loss: 1.2559 - val_accuracy: 0.6602\n",
            "Epoch 13/100\n",
            "4546/4546 [==============================] - 95s 21ms/step - loss: 0.4401 - accuracy: 0.8348 - val_loss: 1.2609 - val_accuracy: 0.6576\n",
            "Epoch 14/100\n",
            "4546/4546 [==============================] - 95s 21ms/step - loss: 0.4274 - accuracy: 0.8375 - val_loss: 1.3257 - val_accuracy: 0.6478\n",
            "Epoch 15/100\n",
            "4546/4546 [==============================] - 95s 21ms/step - loss: 0.4204 - accuracy: 0.8427 - val_loss: 1.3241 - val_accuracy: 0.6575\n",
            "Epoch 16/100\n",
            "4546/4546 [==============================] - 95s 21ms/step - loss: 0.4089 - accuracy: 0.8458 - val_loss: 1.3899 - val_accuracy: 0.6524\n",
            "Epoch 17/100\n",
            "4546/4546 [==============================] - 95s 21ms/step - loss: 0.4025 - accuracy: 0.8483 - val_loss: 1.3882 - val_accuracy: 0.6580\n",
            "Epoch 18/100\n",
            "4546/4546 [==============================] - 95s 21ms/step - loss: 0.3952 - accuracy: 0.8510 - val_loss: 1.4051 - val_accuracy: 0.6545\n",
            "Epoch 19/100\n",
            "4546/4546 [==============================] - 95s 21ms/step - loss: 0.3898 - accuracy: 0.8528 - val_loss: 1.4327 - val_accuracy: 0.6526\n",
            "Epoch 20/100\n",
            "4546/4546 [==============================] - 96s 21ms/step - loss: 0.3822 - accuracy: 0.8564 - val_loss: 1.4525 - val_accuracy: 0.6498\n",
            "Epoch 21/100\n",
            "4546/4546 [==============================] - 96s 21ms/step - loss: 0.3767 - accuracy: 0.8585 - val_loss: 1.4517 - val_accuracy: 0.6479\n",
            "Epoch 22/100\n",
            "4546/4546 [==============================] - 96s 21ms/step - loss: 0.3705 - accuracy: 0.8611 - val_loss: 1.5055 - val_accuracy: 0.6535\n",
            "Epoch 23/100\n",
            "4546/4546 [==============================] - 96s 21ms/step - loss: 0.3656 - accuracy: 0.8626 - val_loss: 1.5236 - val_accuracy: 0.6513\n",
            "Epoch 24/100\n",
            "4546/4546 [==============================] - 94s 21ms/step - loss: 0.3612 - accuracy: 0.8645 - val_loss: 1.5168 - val_accuracy: 0.6508\n",
            "Epoch 25/100\n",
            "4546/4546 [==============================] - 95s 21ms/step - loss: 0.3568 - accuracy: 0.8666 - val_loss: 1.5372 - val_accuracy: 0.6519\n",
            "Epoch 26/100\n",
            "4546/4546 [==============================] - 96s 21ms/step - loss: 0.3529 - accuracy: 0.8685 - val_loss: 1.5594 - val_accuracy: 0.6510\n",
            "Epoch 27/100\n",
            "4546/4546 [==============================] - 95s 21ms/step - loss: 0.3486 - accuracy: 0.8690 - val_loss: 1.5647 - val_accuracy: 0.6503\n",
            "Epoch 28/100\n",
            "4546/4546 [==============================] - 95s 21ms/step - loss: 0.3452 - accuracy: 0.8712 - val_loss: 1.6135 - val_accuracy: 0.6478\n",
            "Epoch 29/100\n",
            "4546/4546 [==============================] - 96s 21ms/step - loss: 0.3405 - accuracy: 0.8731 - val_loss: 1.6130 - val_accuracy: 0.6467\n",
            "Epoch 30/100\n",
            "4546/4546 [==============================] - 96s 21ms/step - loss: 0.3367 - accuracy: 0.8741 - val_loss: 1.6168 - val_accuracy: 0.6485\n",
            "Epoch 31/100\n",
            "4546/4546 [==============================] - 96s 21ms/step - loss: 0.3334 - accuracy: 0.8758 - val_loss: 1.6418 - val_accuracy: 0.6469\n",
            "Epoch 32/100\n",
            "4546/4546 [==============================] - 95s 21ms/step - loss: 0.3310 - accuracy: 0.8767 - val_loss: 1.6392 - val_accuracy: 0.6462\n",
            "Epoch 33/100\n",
            "4546/4546 [==============================] - 95s 21ms/step - loss: 0.3280 - accuracy: 0.8774 - val_loss: 1.6764 - val_accuracy: 0.6456\n",
            "Epoch 34/100\n",
            "4546/4546 [==============================] - 96s 21ms/step - loss: 0.3241 - accuracy: 0.8790 - val_loss: 1.6840 - val_accuracy: 0.6469\n",
            "Epoch 35/100\n",
            "4546/4546 [==============================] - 95s 21ms/step - loss: 0.3201 - accuracy: 0.8808 - val_loss: 1.7358 - val_accuracy: 0.6473\n",
            "Epoch 36/100\n",
            "4546/4546 [==============================] - 95s 21ms/step - loss: 0.3197 - accuracy: 0.8820 - val_loss: 1.7159 - val_accuracy: 0.6495\n",
            "Epoch 37/100\n",
            "4546/4546 [==============================] - 96s 21ms/step - loss: 0.3156 - accuracy: 0.8823 - val_loss: 1.7657 - val_accuracy: 0.6472\n",
            "Epoch 38/100\n",
            "4546/4546 [==============================] - 95s 21ms/step - loss: 0.3139 - accuracy: 0.8837 - val_loss: 1.7571 - val_accuracy: 0.6469\n",
            "Epoch 39/100\n",
            "4546/4546 [==============================] - 95s 21ms/step - loss: 0.3116 - accuracy: 0.8849 - val_loss: 1.7606 - val_accuracy: 0.6465\n",
            "Epoch 40/100\n",
            "4546/4546 [==============================] - 96s 21ms/step - loss: 0.3075 - accuracy: 0.8856 - val_loss: 1.7413 - val_accuracy: 0.6474\n",
            "Epoch 41/100\n",
            "4546/4546 [==============================] - 96s 21ms/step - loss: 0.3062 - accuracy: 0.8876 - val_loss: 1.7937 - val_accuracy: 0.6473\n",
            "Epoch 42/100\n",
            "4546/4546 [==============================] - 95s 21ms/step - loss: 0.3032 - accuracy: 0.8881 - val_loss: 1.8657 - val_accuracy: 0.6433\n",
            "Epoch 43/100\n",
            "4546/4546 [==============================] - 96s 21ms/step - loss: 0.3039 - accuracy: 0.8876 - val_loss: 1.8299 - val_accuracy: 0.6466\n",
            "Epoch 44/100\n",
            "4546/4546 [==============================] - 95s 21ms/step - loss: 0.2995 - accuracy: 0.8897 - val_loss: 1.8434 - val_accuracy: 0.6489\n",
            "Epoch 45/100\n",
            "4546/4546 [==============================] - 96s 21ms/step - loss: 0.3002 - accuracy: 0.8892 - val_loss: 1.8144 - val_accuracy: 0.6468\n",
            "Epoch 46/100\n",
            "4546/4546 [==============================] - 96s 21ms/step - loss: 0.2952 - accuracy: 0.8904 - val_loss: 1.8267 - val_accuracy: 0.6421\n",
            "Epoch 47/100\n",
            "4546/4546 [==============================] - 96s 21ms/step - loss: 0.2939 - accuracy: 0.8917 - val_loss: 1.8971 - val_accuracy: 0.6452\n",
            "Epoch 48/100\n",
            "4546/4546 [==============================] - 96s 21ms/step - loss: 0.2949 - accuracy: 0.8914 - val_loss: 1.8862 - val_accuracy: 0.6470\n",
            "Epoch 49/100\n",
            "4546/4546 [==============================] - 96s 21ms/step - loss: 0.2898 - accuracy: 0.8933 - val_loss: 1.9184 - val_accuracy: 0.6451\n",
            "Epoch 50/100\n",
            "4546/4546 [==============================] - 96s 21ms/step - loss: 0.2913 - accuracy: 0.8934 - val_loss: 1.9100 - val_accuracy: 0.6415\n",
            "Epoch 51/100\n",
            "4546/4546 [==============================] - 96s 21ms/step - loss: 0.2898 - accuracy: 0.8936 - val_loss: 1.9032 - val_accuracy: 0.6403\n",
            "Epoch 52/100\n",
            "4546/4546 [==============================] - 96s 21ms/step - loss: 0.2850 - accuracy: 0.8953 - val_loss: 1.8908 - val_accuracy: 0.6469\n",
            "Epoch 53/100\n",
            "4546/4546 [==============================] - 96s 21ms/step - loss: 0.2843 - accuracy: 0.8962 - val_loss: 1.9665 - val_accuracy: 0.6478\n",
            "Epoch 54/100\n",
            "4546/4546 [==============================] - 96s 21ms/step - loss: 0.2829 - accuracy: 0.8966 - val_loss: 1.9490 - val_accuracy: 0.6442\n",
            "Epoch 55/100\n",
            "4546/4546 [==============================] - 96s 21ms/step - loss: 0.2844 - accuracy: 0.8966 - val_loss: 1.8922 - val_accuracy: 0.6424\n",
            "Epoch 56/100\n",
            "4546/4546 [==============================] - 96s 21ms/step - loss: 0.2800 - accuracy: 0.8979 - val_loss: 1.9953 - val_accuracy: 0.6423\n",
            "Epoch 57/100\n",
            "4546/4546 [==============================] - 95s 21ms/step - loss: 0.2784 - accuracy: 0.8981 - val_loss: 1.9938 - val_accuracy: 0.6418\n",
            "Epoch 58/100\n",
            "4546/4546 [==============================] - 96s 21ms/step - loss: 0.2781 - accuracy: 0.8984 - val_loss: 1.9938 - val_accuracy: 0.6440\n",
            "Epoch 59/100\n",
            "4546/4546 [==============================] - 96s 21ms/step - loss: 0.2765 - accuracy: 0.8991 - val_loss: 1.9696 - val_accuracy: 0.6452\n",
            "Epoch 60/100\n",
            "4546/4546 [==============================] - 96s 21ms/step - loss: 0.2755 - accuracy: 0.9001 - val_loss: 1.9860 - val_accuracy: 0.6422\n",
            "Epoch 61/100\n",
            "4546/4546 [==============================] - 95s 21ms/step - loss: 0.2749 - accuracy: 0.8999 - val_loss: 2.0291 - val_accuracy: 0.6437\n",
            "Epoch 62/100\n",
            "4546/4546 [==============================] - 95s 21ms/step - loss: 0.2717 - accuracy: 0.9020 - val_loss: 2.0367 - val_accuracy: 0.6441\n",
            "Epoch 63/100\n",
            "4546/4546 [==============================] - 96s 21ms/step - loss: 0.2735 - accuracy: 0.9015 - val_loss: 2.0977 - val_accuracy: 0.6403\n",
            "Epoch 64/100\n",
            "4546/4546 [==============================] - 96s 21ms/step - loss: 0.2709 - accuracy: 0.9021 - val_loss: 2.0639 - val_accuracy: 0.6398\n",
            "Epoch 65/100\n",
            "4546/4546 [==============================] - 95s 21ms/step - loss: 0.2671 - accuracy: 0.9035 - val_loss: 2.0653 - val_accuracy: 0.6396\n",
            "Epoch 66/100\n",
            "4546/4546 [==============================] - 96s 21ms/step - loss: 0.2664 - accuracy: 0.9035 - val_loss: 2.0938 - val_accuracy: 0.6419\n",
            "Epoch 67/100\n",
            "4546/4546 [==============================] - 96s 21ms/step - loss: 0.2633 - accuracy: 0.9049 - val_loss: 2.0923 - val_accuracy: 0.6405\n",
            "Epoch 68/100\n",
            "4546/4546 [==============================] - 96s 21ms/step - loss: 0.2641 - accuracy: 0.9045 - val_loss: 2.1349 - val_accuracy: 0.6432\n",
            "Epoch 69/100\n",
            "4546/4546 [==============================] - 96s 21ms/step - loss: 0.2637 - accuracy: 0.9049 - val_loss: 2.1047 - val_accuracy: 0.6402\n",
            "Epoch 70/100\n",
            "4546/4546 [==============================] - 95s 21ms/step - loss: 0.2632 - accuracy: 0.9051 - val_loss: 2.1511 - val_accuracy: 0.6406\n",
            "Epoch 71/100\n",
            "4546/4546 [==============================] - 95s 21ms/step - loss: 0.2605 - accuracy: 0.9057 - val_loss: 2.1301 - val_accuracy: 0.6417\n",
            "Epoch 72/100\n",
            "4546/4546 [==============================] - 95s 21ms/step - loss: 0.2627 - accuracy: 0.9048 - val_loss: 2.1283 - val_accuracy: 0.6381\n",
            "Epoch 73/100\n",
            "4546/4546 [==============================] - 95s 21ms/step - loss: 0.2596 - accuracy: 0.9065 - val_loss: 2.2010 - val_accuracy: 0.6349\n",
            "Epoch 74/100\n",
            "4546/4546 [==============================] - 95s 21ms/step - loss: 0.2576 - accuracy: 0.9073 - val_loss: 2.1794 - val_accuracy: 0.6442\n",
            "Epoch 75/100\n",
            "4546/4546 [==============================] - 96s 21ms/step - loss: 0.2568 - accuracy: 0.9074 - val_loss: 2.1589 - val_accuracy: 0.6416\n",
            "Epoch 76/100\n",
            "4546/4546 [==============================] - 95s 21ms/step - loss: 0.2549 - accuracy: 0.9075 - val_loss: 2.2216 - val_accuracy: 0.6402\n",
            "Epoch 77/100\n",
            "4546/4546 [==============================] - 95s 21ms/step - loss: 0.2566 - accuracy: 0.9077 - val_loss: 2.1964 - val_accuracy: 0.6394\n",
            "Epoch 78/100\n",
            "4546/4546 [==============================] - 95s 21ms/step - loss: 0.2556 - accuracy: 0.9085 - val_loss: 2.1801 - val_accuracy: 0.6391\n",
            "Epoch 79/100\n",
            "4546/4546 [==============================] - 96s 21ms/step - loss: 0.2536 - accuracy: 0.9091 - val_loss: 2.2159 - val_accuracy: 0.6409\n",
            "Epoch 80/100\n",
            "4546/4546 [==============================] - 96s 21ms/step - loss: 0.2512 - accuracy: 0.9096 - val_loss: 2.2937 - val_accuracy: 0.6415\n",
            "Epoch 81/100\n",
            "4546/4546 [==============================] - 96s 21ms/step - loss: 0.2525 - accuracy: 0.9094 - val_loss: 2.2015 - val_accuracy: 0.6420\n",
            "Epoch 82/100\n",
            "4546/4546 [==============================] - 96s 21ms/step - loss: 0.2527 - accuracy: 0.9104 - val_loss: 2.2158 - val_accuracy: 0.6433\n",
            "Epoch 83/100\n",
            "4546/4546 [==============================] - 95s 21ms/step - loss: 0.2511 - accuracy: 0.9104 - val_loss: 2.1976 - val_accuracy: 0.6390\n",
            "Epoch 84/100\n",
            "4546/4546 [==============================] - 95s 21ms/step - loss: 0.2487 - accuracy: 0.9110 - val_loss: 2.2389 - val_accuracy: 0.6407\n",
            "Epoch 85/100\n",
            "4546/4546 [==============================] - 96s 21ms/step - loss: 0.2500 - accuracy: 0.9114 - val_loss: 2.2704 - val_accuracy: 0.6425\n",
            "Epoch 86/100\n",
            "4546/4546 [==============================] - 96s 21ms/step - loss: 0.2475 - accuracy: 0.9120 - val_loss: 2.2254 - val_accuracy: 0.6413\n",
            "Epoch 87/100\n",
            "4546/4546 [==============================] - 95s 21ms/step - loss: 0.2458 - accuracy: 0.9115 - val_loss: 2.2640 - val_accuracy: 0.6417\n",
            "Epoch 88/100\n",
            "4546/4546 [==============================] - 95s 21ms/step - loss: 0.2441 - accuracy: 0.9129 - val_loss: 2.3049 - val_accuracy: 0.6393\n",
            "Epoch 89/100\n",
            "4546/4546 [==============================] - 95s 21ms/step - loss: 0.2470 - accuracy: 0.9121 - val_loss: 2.3114 - val_accuracy: 0.6428\n",
            "Epoch 90/100\n",
            "4546/4546 [==============================] - 95s 21ms/step - loss: 0.2428 - accuracy: 0.9135 - val_loss: 2.3727 - val_accuracy: 0.6411\n",
            "Epoch 91/100\n",
            "4546/4546 [==============================] - 95s 21ms/step - loss: 0.2416 - accuracy: 0.9135 - val_loss: 2.2725 - val_accuracy: 0.6401\n",
            "Epoch 92/100\n",
            "4546/4546 [==============================] - 95s 21ms/step - loss: 0.2424 - accuracy: 0.9135 - val_loss: 2.3763 - val_accuracy: 0.6383\n",
            "Epoch 93/100\n",
            "4546/4546 [==============================] - 95s 21ms/step - loss: 0.2436 - accuracy: 0.9131 - val_loss: 2.3074 - val_accuracy: 0.6358\n",
            "Epoch 94/100\n",
            "4546/4546 [==============================] - 95s 21ms/step - loss: 0.2406 - accuracy: 0.9143 - val_loss: 2.3442 - val_accuracy: 0.6404\n",
            "Epoch 95/100\n",
            "4546/4546 [==============================] - 95s 21ms/step - loss: 0.2404 - accuracy: 0.9149 - val_loss: 2.3546 - val_accuracy: 0.6372\n",
            "Epoch 96/100\n",
            "4546/4546 [==============================] - 95s 21ms/step - loss: 0.2406 - accuracy: 0.9146 - val_loss: 2.3503 - val_accuracy: 0.6430\n",
            "Epoch 97/100\n",
            "4546/4546 [==============================] - 95s 21ms/step - loss: 0.2409 - accuracy: 0.9147 - val_loss: 2.3258 - val_accuracy: 0.6403\n",
            "Epoch 98/100\n",
            "4546/4546 [==============================] - 95s 21ms/step - loss: 0.2384 - accuracy: 0.9156 - val_loss: 2.4487 - val_accuracy: 0.6332\n",
            "Epoch 99/100\n",
            "4546/4546 [==============================] - 95s 21ms/step - loss: 0.2381 - accuracy: 0.9156 - val_loss: 2.3531 - val_accuracy: 0.6429\n",
            "Epoch 100/100\n",
            "4546/4546 [==============================] - 95s 21ms/step - loss: 0.2374 - accuracy: 0.9160 - val_loss: 2.3574 - val_accuracy: 0.6400\n"
          ]
        },
        {
          "output_type": "execute_result",
          "data": {
            "text/plain": [
              "<keras.callbacks.History at 0x7f06284e2810>"
            ]
          },
          "metadata": {},
          "execution_count": 67
        }
      ]
    },
    {
      "cell_type": "code",
      "metadata": {
        "id": "I042Gn8cT2Gm"
      },
      "source": [
        "# OVERFITTING ISSUES BECAUSE IT IS COMPLEX"
      ],
      "execution_count": null,
      "outputs": []
    },
    {
      "cell_type": "code",
      "metadata": {
        "id": "NI55s96SOXgE"
      },
      "source": [
        "FF_predictions = FF_model.predict(X_test, batch_size=64)"
      ],
      "execution_count": 68,
      "outputs": []
    },
    {
      "cell_type": "code",
      "metadata": {
        "colab": {
          "base_uri": "https://localhost:8080/"
        },
        "id": "yvu3L77ekTR_",
        "outputId": "dc0d3ad4-f7ee-45dd-b0ba-f9d2364d0f81"
      },
      "source": [
        "\n",
        "print(sklearn.metrics.classification_report(Y_test.argmax(axis=1),FF_predictions.argmax(axis=1), target_names=encoder.classes_))\n",
        "print(\"Confusion matrix:\\n\",sklearn.metrics.confusion_matrix(Y_test.argmax(axis=1),FF_predictions.argmax(axis=1)))\n",
        "print(\"F1:\",sklearn.metrics.f1_score(Y_test.argmax(axis=1),FF_predictions.argmax(axis=1),average='weighted'))\n",
        "print(\"Precision:\", sklearn.metrics.precision_score(Y_test.argmax(axis=1),FF_predictions.argmax(axis=1),average='weighted'))\n",
        "print(\"Recall:\", sklearn.metrics.recall_score(Y_test.argmax(axis=1),FF_predictions.argmax(axis=1),average='weighted'))\n",
        "print(\"Classification Report:\\n\",sklearn.metrics.classification_report(Y_test.argmax(axis=1),FF_predictions.argmax(axis=1), target_names=labes))\n"
      ],
      "execution_count": 69,
      "outputs": [
        {
          "output_type": "stream",
          "name": "stdout",
          "text": [
            "                   precision    recall  f1-score   support\n",
            "\n",
            "            Abuse       0.58      0.47      0.52      3829\n",
            "          Anxiety       0.73      0.74      0.74     14383\n",
            "            Death       0.53      0.44      0.48      1206\n",
            "       Depression       0.50      0.46      0.48     13893\n",
            "Domestic Violence       0.36      0.40      0.38      1866\n",
            "       Dysmorphia       0.66      0.63      0.65      3581\n",
            "  Eating Disorder       0.86      0.85      0.85     14676\n",
            "             PTSD       0.60      0.54      0.57      5993\n",
            "          Suicide       0.54      0.64      0.59     13302\n",
            "\n",
            "         accuracy                           0.64     72729\n",
            "        macro avg       0.59      0.57      0.58     72729\n",
            "     weighted avg       0.64      0.64      0.64     72729\n",
            "\n",
            "Confusion matrix:\n",
            " [[ 1784   131    13   341   810    47    60   353   290]\n",
            " [  143 10640    66  1464    54   184   472   590   770]\n",
            " [    9   116   535   133    19     8    31    74   281]\n",
            " [  174  1377   130  6403   108   184   504   479  4534]\n",
            " [  557    62     6   109   753     6    18   221   134]\n",
            " [   24   210     4   199     3  2259   567    62   253]\n",
            " [   31   530    18   437    15   554 12429   137   525]\n",
            " [  255   923    52   634   249    65   155  3236   424]\n",
            " [  110   519   181  3201    97   109   300   280  8505]]\n",
            "F1: 0.6392011414190933\n",
            "Precision: 0.6412848857926775\n",
            "Recall: 0.6399648008359802\n",
            "Classification Report:\n",
            "                    precision    recall  f1-score   support\n",
            "\n",
            "            Abuse       0.58      0.47      0.52      3829\n",
            "          Anxiety       0.73      0.74      0.74     14383\n",
            "            Death       0.53      0.44      0.48      1206\n",
            "       Depression       0.50      0.46      0.48     13893\n",
            "Domestic Violence       0.36      0.40      0.38      1866\n",
            "       Dysmorphia       0.66      0.63      0.65      3581\n",
            "  Eating Disorder       0.86      0.85      0.85     14676\n",
            "             PTSD       0.60      0.54      0.57      5993\n",
            "          Suicide       0.54      0.64      0.59     13302\n",
            "\n",
            "         accuracy                           0.64     72729\n",
            "        macro avg       0.59      0.57      0.58     72729\n",
            "     weighted avg       0.64      0.64      0.64     72729\n",
            "\n"
          ]
        }
      ]
    },
    {
      "cell_type": "code",
      "metadata": {
        "colab": {
          "base_uri": "https://localhost:8080/",
          "height": 901
        },
        "id": "mA1N_mzp3cYG",
        "outputId": "c58d4e22-4694-445e-d479-4a3b3bf22568"
      },
      "source": [
        "fig, ax = plt.subplots(figsize=(16, 16))\n",
        "x=sklearn.metrics.ConfusionMatrixDisplay(sklearn.metrics.confusion_matrix(Y_test.argmax(axis=1), FF_predictions.argmax(axis=1)),display_labels=labes)\n",
        "x.plot(ax=ax)\n",
        "plt.show()"
      ],
      "execution_count": 70,
      "outputs": [
        {
          "output_type": "display_data",
          "data": {
            "image/png": "[encoded data removed]",
            "text/plain": [
              "<Figure size 1152x1152 with 2 Axes>"
            ]
          },
          "metadata": {
            "needs_background": "light"
          }
        }
      ]
    },
    {
      "cell_type": "code",
      "metadata": {
        "colab": {
          "base_uri": "https://localhost:8080/"
        },
        "id": "6HBraMYmq-0C",
        "outputId": "cdb24f46-5ef6-4aa4-97ed-e85c082cedf7"
      },
      "source": [
        "print(\"Confusion matrix:\\n\",sklearn.metrics.confusion_matrix(Y_test.argmax(axis=1), FF_predictions.argmax(axis=1)))"
      ],
      "execution_count": 71,
      "outputs": [
        {
          "output_type": "stream",
          "name": "stdout",
          "text": [
            "Confusion matrix:\n",
            " [[ 1784   131    13   341   810    47    60   353   290]\n",
            " [  143 10640    66  1464    54   184   472   590   770]\n",
            " [    9   116   535   133    19     8    31    74   281]\n",
            " [  174  1377   130  6403   108   184   504   479  4534]\n",
            " [  557    62     6   109   753     6    18   221   134]\n",
            " [   24   210     4   199     3  2259   567    62   253]\n",
            " [   31   530    18   437    15   554 12429   137   525]\n",
            " [  255   923    52   634   249    65   155  3236   424]\n",
            " [  110   519   181  3201    97   109   300   280  8505]]\n"
          ]
        }
      ]
    },
    {
      "cell_type": "code",
      "metadata": {
        "colab": {
          "base_uri": "https://localhost:8080/"
        },
        "id": "VgIJ_AGF5BeZ",
        "outputId": "817ec329-9e5b-4b4a-ed96-3b6a3df32176"
      },
      "source": [
        "print(sklearn.metrics.label_ranking_average_precision_score(Y_test,FF_predictions))"
      ],
      "execution_count": 72,
      "outputs": [
        {
          "output_type": "stream",
          "name": "stdout",
          "text": [
            "0.778693975264132\n"
          ]
        }
      ]
    },
    {
      "cell_type": "markdown",
      "metadata": {
        "id": "cyiPkOpz2AXd"
      },
      "source": [
        "**CNN** Gtkosis"
      ]
    },
    {
      "cell_type": "code",
      "metadata": {
        "colab": {
          "base_uri": "https://localhost:8080/"
        },
        "id": "Na5qCOhh2C6K",
        "outputId": "cf9c3587-7877-4b79-c9f3-f2dceb7f9ff4"
      },
      "source": [
        "# build the keras model\n",
        "CNN_model = models.Sequential() #remove max input length seq parameter?\n",
        "CNN_model.add(layers.Embedding(VOCAB_SIZE,EMBED_DIM,weights=[embedding_matrix],input_length=max_seq_len, trainable=False))\n",
        "CNN_model.add(layers.Conv1D(5,3,activation='relu'))\n",
        "CNN_model.add(layers.MaxPooling1D(2))\n",
        "CNN_model.add(layers.Flatten())\n",
        "CNN_model.add(layers.Dropout(0.25))\n",
        "CNN_model.add(layers.Dense(256,activation='relu'))\n",
        "CNN_model.add(layers.Dense(9, activation='sigmoid'))\n",
        "\n",
        "CNN_model.summary()"
      ],
      "execution_count": 72,
      "outputs": [
        {
          "output_type": "stream",
          "name": "stdout",
          "text": [
            "Model: \"sequential_3\"\n",
            "_________________________________________________________________\n",
            " Layer (type)                Output Shape              Param #   \n",
            "=================================================================\n",
            " embedding_2 (Embedding)     (None, 3341, 300)         64113300  \n",
            "                                                                 \n",
            " conv1d_1 (Conv1D)           (None, 3339, 5)           4505      \n",
            "                                                                 \n",
            " max_pooling1d_1 (MaxPooling  (None, 1669, 5)          0         \n",
            " 1D)                                                             \n",
            "                                                                 \n",
            " flatten_2 (Flatten)         (None, 8345)              0         \n",
            "                                                                 \n",
            " dropout_2 (Dropout)         (None, 8345)              0         \n",
            "                                                                 \n",
            " dense_4 (Dense)             (None, 256)               2136576   \n",
            "                                                                 \n",
            " dense_5 (Dense)             (None, 9)                 2313      \n",
            "                                                                 \n",
            "=================================================================\n",
            "Total params: 66,256,694\n",
            "Trainable params: 2,143,394\n",
            "Non-trainable params: 64,113,300\n",
            "_________________________________________________________________\n"
          ]
        }
      ]
    },
    {
      "cell_type": "code",
      "metadata": {
        "id": "YDUrRDLbCcXK"
      },
      "source": [
        "CNN_model.compile(loss=\"categorical_crossentropy\", optimizer='adam', metrics=['accuracy'])"
      ],
      "execution_count": 73,
      "outputs": []
    },
    {
      "cell_type": "code",
      "metadata": {
        "colab": {
          "base_uri": "https://localhost:8080/"
        },
        "id": "QyeGJCIFCs1u",
        "outputId": "b9578bed-db58-44d8-c07d-3b7b0a6d05ed"
      },
      "source": [
        "CNN_model.fit(X_train,Y_train, epochs=100,batch_size=64, validation_data=(X_test,Y_test),callbacks=callback)"
      ],
      "execution_count": 74,
      "outputs": [
        {
          "output_type": "stream",
          "name": "stdout",
          "text": [
            "Epoch 1/100\n",
            "4546/4546 [==============================] - 57s 12ms/step - loss: 0.9412 - accuracy: 0.6538 - val_loss: 0.8035 - val_accuracy: 0.7019\n",
            "Epoch 2/100\n",
            "4546/4546 [==============================] - 56s 12ms/step - loss: 0.8384 - accuracy: 0.6908 - val_loss: 0.7895 - val_accuracy: 0.7062\n",
            "Epoch 3/100\n",
            "4546/4546 [==============================] - 56s 12ms/step - loss: 0.8157 - accuracy: 0.6992 - val_loss: 0.7811 - val_accuracy: 0.7117\n",
            "Epoch 4/100\n",
            "4546/4546 [==============================] - 56s 12ms/step - loss: 0.7991 - accuracy: 0.7053 - val_loss: 0.7825 - val_accuracy: 0.7122\n",
            "Epoch 5/100\n",
            "4546/4546 [==============================] - 56s 12ms/step - loss: 0.7872 - accuracy: 0.7090 - val_loss: 0.7810 - val_accuracy: 0.7156\n",
            "Epoch 6/100\n",
            "4546/4546 [==============================] - 56s 12ms/step - loss: 0.7791 - accuracy: 0.7118 - val_loss: 0.7895 - val_accuracy: 0.7137\n",
            "Epoch 7/100\n",
            "4546/4546 [==============================] - 56s 12ms/step - loss: 0.7693 - accuracy: 0.7152 - val_loss: 0.7918 - val_accuracy: 0.7134\n",
            "Epoch 8/100\n",
            "4546/4546 [==============================] - 56s 12ms/step - loss: 0.7634 - accuracy: 0.7185 - val_loss: 0.7933 - val_accuracy: 0.7133\n",
            "Epoch 9/100\n",
            "4546/4546 [==============================] - 56s 12ms/step - loss: 0.7615 - accuracy: 0.7192 - val_loss: 0.7967 - val_accuracy: 0.7109\n",
            "Epoch 10/100\n",
            "4546/4546 [==============================] - 56s 12ms/step - loss: 0.7547 - accuracy: 0.7212 - val_loss: 0.7964 - val_accuracy: 0.7139\n",
            "Epoch 11/100\n",
            "4546/4546 [==============================] - 56s 12ms/step - loss: 0.7507 - accuracy: 0.7219 - val_loss: 0.8058 - val_accuracy: 0.7068\n",
            "Epoch 12/100\n",
            "4546/4546 [==============================] - 56s 12ms/step - loss: 0.7473 - accuracy: 0.7230 - val_loss: 0.8095 - val_accuracy: 0.7121\n",
            "Epoch 13/100\n",
            "4546/4546 [==============================] - 56s 12ms/step - loss: 0.7433 - accuracy: 0.7246 - val_loss: 0.8114 - val_accuracy: 0.7094\n",
            "Epoch 14/100\n",
            "4546/4546 [==============================] - 56s 12ms/step - loss: 0.7423 - accuracy: 0.7260 - val_loss: 0.8152 - val_accuracy: 0.7109\n",
            "Epoch 15/100\n",
            "4546/4546 [==============================] - 56s 12ms/step - loss: 0.7383 - accuracy: 0.7271 - val_loss: 0.8180 - val_accuracy: 0.7148\n",
            "Epoch 16/100\n",
            "4546/4546 [==============================] - 56s 12ms/step - loss: 0.7359 - accuracy: 0.7281 - val_loss: 0.8157 - val_accuracy: 0.7091\n",
            "Epoch 17/100\n",
            "4546/4546 [==============================] - 56s 12ms/step - loss: 0.7356 - accuracy: 0.7278 - val_loss: 0.8227 - val_accuracy: 0.7083\n",
            "Epoch 18/100\n",
            "4546/4546 [==============================] - 56s 12ms/step - loss: 0.7329 - accuracy: 0.7281 - val_loss: 0.8178 - val_accuracy: 0.7094\n",
            "Epoch 19/100\n",
            "4546/4546 [==============================] - 56s 12ms/step - loss: 0.7298 - accuracy: 0.7297 - val_loss: 0.8270 - val_accuracy: 0.7075\n",
            "Epoch 20/100\n",
            "4546/4546 [==============================] - 56s 12ms/step - loss: 0.7282 - accuracy: 0.7307 - val_loss: 0.8186 - val_accuracy: 0.7112\n",
            "Epoch 21/100\n",
            "4546/4546 [==============================] - 56s 12ms/step - loss: 0.7284 - accuracy: 0.7307 - val_loss: 0.8308 - val_accuracy: 0.7110\n",
            "Epoch 22/100\n",
            "4546/4546 [==============================] - 56s 12ms/step - loss: 0.7260 - accuracy: 0.7322 - val_loss: 0.8249 - val_accuracy: 0.7096\n",
            "Epoch 23/100\n",
            "4546/4546 [==============================] - 56s 12ms/step - loss: 0.7236 - accuracy: 0.7319 - val_loss: 0.8316 - val_accuracy: 0.7095\n",
            "Epoch 24/100\n",
            "4546/4546 [==============================] - 56s 12ms/step - loss: 0.7232 - accuracy: 0.7325 - val_loss: 0.8453 - val_accuracy: 0.7076\n",
            "Epoch 25/100\n",
            "4546/4546 [==============================] - 56s 12ms/step - loss: 0.7208 - accuracy: 0.7337 - val_loss: 0.8425 - val_accuracy: 0.7042\n",
            "Epoch 26/100\n",
            "4546/4546 [==============================] - 56s 12ms/step - loss: 0.7199 - accuracy: 0.7339 - val_loss: 0.8329 - val_accuracy: 0.7083\n",
            "Epoch 27/100\n",
            "4546/4546 [==============================] - 56s 12ms/step - loss: 0.7190 - accuracy: 0.7342 - val_loss: 0.8376 - val_accuracy: 0.7103\n",
            "Epoch 28/100\n",
            "4546/4546 [==============================] - 56s 12ms/step - loss: 0.7178 - accuracy: 0.7346 - val_loss: 0.8489 - val_accuracy: 0.7090\n",
            "Epoch 29/100\n",
            "4546/4546 [==============================] - 56s 12ms/step - loss: 0.7174 - accuracy: 0.7350 - val_loss: 0.8387 - val_accuracy: 0.7099\n",
            "Epoch 30/100\n",
            "4546/4546 [==============================] - 56s 12ms/step - loss: 0.7159 - accuracy: 0.7356 - val_loss: 0.8368 - val_accuracy: 0.7083\n",
            "Epoch 31/100\n",
            "4546/4546 [==============================] - 56s 12ms/step - loss: 0.7152 - accuracy: 0.7362 - val_loss: 0.8434 - val_accuracy: 0.7100\n",
            "Epoch 32/100\n",
            "4546/4546 [==============================] - 56s 12ms/step - loss: 0.7148 - accuracy: 0.7354 - val_loss: 0.8396 - val_accuracy: 0.7115\n",
            "Epoch 33/100\n",
            "4546/4546 [==============================] - 56s 12ms/step - loss: 0.7140 - accuracy: 0.7361 - val_loss: 0.8451 - val_accuracy: 0.7106\n",
            "Epoch 34/100\n",
            "4546/4546 [==============================] - 56s 12ms/step - loss: 0.7123 - accuracy: 0.7359 - val_loss: 0.8468 - val_accuracy: 0.7060\n",
            "Epoch 35/100\n",
            "4546/4546 [==============================] - 56s 12ms/step - loss: 0.7126 - accuracy: 0.7375 - val_loss: 0.8583 - val_accuracy: 0.7100\n",
            "Epoch 36/100\n",
            "4546/4546 [==============================] - 56s 12ms/step - loss: 0.7100 - accuracy: 0.7371 - val_loss: 0.8486 - val_accuracy: 0.7081\n",
            "Epoch 37/100\n",
            "4546/4546 [==============================] - 56s 12ms/step - loss: 0.7118 - accuracy: 0.7378 - val_loss: 0.8526 - val_accuracy: 0.7094\n",
            "Epoch 38/100\n",
            "4546/4546 [==============================] - 56s 12ms/step - loss: 0.7118 - accuracy: 0.7369 - val_loss: 0.8509 - val_accuracy: 0.7108\n",
            "Epoch 39/100\n",
            "4546/4546 [==============================] - 56s 12ms/step - loss: 0.7094 - accuracy: 0.7383 - val_loss: 0.8512 - val_accuracy: 0.7103\n",
            "Epoch 40/100\n",
            "4546/4546 [==============================] - 56s 12ms/step - loss: 0.7078 - accuracy: 0.7382 - val_loss: 0.8566 - val_accuracy: 0.7076\n",
            "Epoch 41/100\n",
            "4546/4546 [==============================] - 56s 12ms/step - loss: 0.7087 - accuracy: 0.7387 - val_loss: 0.8587 - val_accuracy: 0.7070\n",
            "Epoch 42/100\n",
            "4546/4546 [==============================] - 56s 12ms/step - loss: 0.7071 - accuracy: 0.7387 - val_loss: 0.8688 - val_accuracy: 0.7092\n",
            "Epoch 43/100\n",
            "4546/4546 [==============================] - 56s 12ms/step - loss: 0.7079 - accuracy: 0.7389 - val_loss: 0.8608 - val_accuracy: 0.7064\n",
            "Epoch 44/100\n",
            "4546/4546 [==============================] - 56s 12ms/step - loss: 0.7063 - accuracy: 0.7393 - val_loss: 0.8622 - val_accuracy: 0.7071\n",
            "Epoch 45/100\n",
            "4546/4546 [==============================] - 56s 12ms/step - loss: 0.7073 - accuracy: 0.7389 - val_loss: 0.8517 - val_accuracy: 0.7088\n",
            "Epoch 46/100\n",
            "4546/4546 [==============================] - 56s 12ms/step - loss: 0.7048 - accuracy: 0.7399 - val_loss: 0.8663 - val_accuracy: 0.7080\n",
            "Epoch 47/100\n",
            "4546/4546 [==============================] - 56s 12ms/step - loss: 0.7068 - accuracy: 0.7392 - val_loss: 0.8622 - val_accuracy: 0.7105\n",
            "Epoch 48/100\n",
            "4546/4546 [==============================] - 56s 12ms/step - loss: 0.7064 - accuracy: 0.7391 - val_loss: 0.8701 - val_accuracy: 0.7045\n",
            "Epoch 49/100\n",
            "4546/4546 [==============================] - 56s 12ms/step - loss: 0.7042 - accuracy: 0.7399 - val_loss: 0.8697 - val_accuracy: 0.7095\n",
            "Epoch 50/100\n",
            "4546/4546 [==============================] - 56s 12ms/step - loss: 0.7035 - accuracy: 0.7405 - val_loss: 0.8736 - val_accuracy: 0.7070\n",
            "Epoch 51/100\n",
            "4546/4546 [==============================] - 56s 12ms/step - loss: 0.7037 - accuracy: 0.7403 - val_loss: 0.8786 - val_accuracy: 0.7032\n",
            "Epoch 52/100\n",
            "4546/4546 [==============================] - 56s 12ms/step - loss: 0.7020 - accuracy: 0.7404 - val_loss: 0.8783 - val_accuracy: 0.7077\n",
            "Epoch 53/100\n",
            "4546/4546 [==============================] - 56s 12ms/step - loss: 0.7035 - accuracy: 0.7400 - val_loss: 0.8808 - val_accuracy: 0.7070\n",
            "Epoch 54/100\n",
            "4546/4546 [==============================] - 56s 12ms/step - loss: 0.7009 - accuracy: 0.7417 - val_loss: 0.8713 - val_accuracy: 0.7087\n",
            "Epoch 55/100\n",
            "4546/4546 [==============================] - 56s 12ms/step - loss: 0.7020 - accuracy: 0.7408 - val_loss: 0.8838 - val_accuracy: 0.7015\n",
            "Epoch 56/100\n",
            "4546/4546 [==============================] - 56s 12ms/step - loss: 0.7019 - accuracy: 0.7413 - val_loss: 0.8831 - val_accuracy: 0.7017\n",
            "Epoch 57/100\n",
            "4546/4546 [==============================] - 56s 12ms/step - loss: 0.7013 - accuracy: 0.7415 - val_loss: 0.8762 - val_accuracy: 0.7054\n",
            "Epoch 58/100\n",
            "4546/4546 [==============================] - 56s 12ms/step - loss: 0.7009 - accuracy: 0.7405 - val_loss: 0.8708 - val_accuracy: 0.7085\n",
            "Epoch 59/100\n",
            "4546/4546 [==============================] - 56s 12ms/step - loss: 0.7016 - accuracy: 0.7412 - val_loss: 0.8766 - val_accuracy: 0.7072\n"
          ]
        },
        {
          "output_type": "execute_result",
          "data": {
            "text/plain": [
              "<keras.callbacks.History at 0x7fb64d14ed10>"
            ]
          },
          "metadata": {},
          "execution_count": 74
        }
      ]
    },
    {
      "cell_type": "code",
      "metadata": {
        "colab": {
          "base_uri": "https://localhost:8080/"
        },
        "id": "EvnbyR5lDfLT",
        "outputId": "7d80d0a5-e75c-4574-8512-f0791c5678c0"
      },
      "source": [
        "CNN_preds = CNN_model.predict(X_test, batch_size=64)\n",
        "print(sklearn.metrics.classification_report(Y_test.argmax(axis=1),CNN_preds.argmax(axis=1), target_names=encoder.classes_))\n",
        "print(\"Confusion matrix:\\n\",sklearn.metrics.confusion_matrix(Y_test.argmax(axis=1),CNN_preds.argmax(axis=1)))"
      ],
      "execution_count": 75,
      "outputs": [
        {
          "output_type": "stream",
          "name": "stdout",
          "text": [
            "                   precision    recall  f1-score   support\n",
            "\n",
            "            Abuse       0.56      0.65      0.60      3829\n",
            "          Anxiety       0.81      0.82      0.81     14383\n",
            "            Death       0.53      0.51      0.52      1206\n",
            "       Depression       0.58      0.51      0.54     13893\n",
            "Domestic Violence       0.42      0.21      0.28      1866\n",
            "       Dysmorphia       0.81      0.69      0.75      3581\n",
            "  Eating Disorder       0.86      0.92      0.89     14676\n",
            "             PTSD       0.80      0.63      0.70      5993\n",
            "          Suicide       0.58      0.71      0.64     13302\n",
            "\n",
            "         accuracy                           0.71     72729\n",
            "        macro avg       0.66      0.63      0.64     72729\n",
            "     weighted avg       0.71      0.71      0.70     72729\n",
            "\n",
            "Confusion matrix:\n",
            " [[ 2491   126     8   185   372    16   110   186   335]\n",
            " [  105 11729    88  1147    12    66   487   262   487]\n",
            " [    9    63   613   124     7     5    15    30   340]\n",
            " [  183  1077   165  7038    18   147   435   159  4671]\n",
            " [ 1061    39     7    48   393     2     8   148   160]\n",
            " [    7    90     0   204     0  2473   705    23    79]\n",
            " [   25   300     1   285     2   224 13506    31   302]\n",
            " [  398   711   108   361   114    35   131  3748   387]\n",
            " [  139   333   165  2805    19    85   240    78  9438]]\n"
          ]
        }
      ]
    },
    {
      "cell_type": "code",
      "metadata": {
        "id": "9n8z4s87rPEF"
      },
      "source": [
        ""
      ],
      "execution_count": null,
      "outputs": []
    },
    {
      "cell_type": "markdown",
      "metadata": {
        "id": "ebVrqqtgxmfZ"
      },
      "source": [
        "**CNN ** Kim et al **architecture**"
      ]
    },
    {
      "cell_type": "code",
      "metadata": {
        "colab": {
          "base_uri": "https://localhost:8080/"
        },
        "id": "xhAo24LoPebn",
        "outputId": "c5790ecb-b911-459b-fa4e-f5a2faa7685e"
      },
      "source": [
        "#different CNN model\n",
        "CNN_model3 = models.Sequential() #remove max input length seq parameter?\n",
        "CNN_model3.add(layers.Embedding(VOCAB_SIZE,EMBED_DIM,weights=[embedding_matrix],input_length=max_seq_len, trainable=False))\n",
        "CNN_model3.add(layers.Conv1D(128,5,activation='relu'))\n",
        "CNN_model3.add(layers.MaxPooling1D(128))\n",
        "CNN_model3.add(layers.Flatten())\n",
        "CNN_model3.add(layers.Dropout(0.25))\n",
        "CNN_model3.add(layers.Dense(128,activation='relu'))\n",
        "CNN_model3.add(layers.Dense(9, activation='sigmoid'))\n",
        "\n",
        "CNN_model3.summary()"
      ],
      "execution_count": 28,
      "outputs": [
        {
          "output_type": "stream",
          "name": "stdout",
          "text": [
            "Model: \"sequential_1\"\n",
            "_________________________________________________________________\n",
            " Layer (type)                Output Shape              Param #   \n",
            "=================================================================\n",
            " embedding_1 (Embedding)     (None, 3341, 300)         64113300  \n",
            "                                                                 \n",
            " conv1d (Conv1D)             (None, 3337, 128)         192128    \n",
            "                                                                 \n",
            " max_pooling1d (MaxPooling1D  (None, 26, 128)          0         \n",
            " )                                                               \n",
            "                                                                 \n",
            " flatten_1 (Flatten)         (None, 3328)              0         \n",
            "                                                                 \n",
            " dropout_1 (Dropout)         (None, 3328)              0         \n",
            "                                                                 \n",
            " dense_2 (Dense)             (None, 128)               426112    \n",
            "                                                                 \n",
            " dense_3 (Dense)             (None, 9)                 1161      \n",
            "                                                                 \n",
            "=================================================================\n",
            "Total params: 64,732,701\n",
            "Trainable params: 619,401\n",
            "Non-trainable params: 64,113,300\n",
            "_________________________________________________________________\n"
          ]
        }
      ]
    },
    {
      "cell_type": "code",
      "metadata": {
        "id": "HKN6v_PNQcVD"
      },
      "source": [
        "CNN_model3.compile(loss=\"categorical_crossentropy\", optimizer='adam', metrics=['accuracy'])"
      ],
      "execution_count": 29,
      "outputs": []
    },
    {
      "cell_type": "code",
      "metadata": {
        "colab": {
          "base_uri": "https://localhost:8080/"
        },
        "id": "GNeB9ZczQd7-",
        "outputId": "2b83b208-5084-490e-f3b3-3d46c64c704d"
      },
      "source": [
        "CNN_model3.fit(X_train,Y_train, epochs=100,batch_size=64, validation_data=(X_test,Y_test),callbacks=callback)"
      ],
      "execution_count": 30,
      "outputs": [
        {
          "output_type": "stream",
          "name": "stdout",
          "text": [
            "Epoch 1/100\n",
            "4546/4546 [==============================] - 216s 46ms/step - loss: 0.8806 - accuracy: 0.6780 - val_loss: 0.7750 - val_accuracy: 0.7111\n",
            "Epoch 2/100\n",
            "4546/4546 [==============================] - 208s 46ms/step - loss: 0.7894 - accuracy: 0.7084 - val_loss: 0.7616 - val_accuracy: 0.7162\n",
            "Epoch 3/100\n",
            "4546/4546 [==============================] - 207s 46ms/step - loss: 0.7617 - accuracy: 0.7173 - val_loss: 0.7505 - val_accuracy: 0.7196\n",
            "Epoch 4/100\n",
            "4546/4546 [==============================] - 208s 46ms/step - loss: 0.7401 - accuracy: 0.7245 - val_loss: 0.7521 - val_accuracy: 0.7207\n",
            "Epoch 5/100\n",
            "4546/4546 [==============================] - 207s 46ms/step - loss: 0.7244 - accuracy: 0.7297 - val_loss: 0.7448 - val_accuracy: 0.7217\n",
            "Epoch 6/100\n",
            "4546/4546 [==============================] - 207s 46ms/step - loss: 0.7096 - accuracy: 0.7347 - val_loss: 0.7521 - val_accuracy: 0.7216\n",
            "Epoch 7/100\n",
            "4546/4546 [==============================] - 208s 46ms/step - loss: 0.6961 - accuracy: 0.7392 - val_loss: 0.7510 - val_accuracy: 0.7221\n",
            "Epoch 8/100\n",
            "4546/4546 [==============================] - 208s 46ms/step - loss: 0.6859 - accuracy: 0.7426 - val_loss: 0.7454 - val_accuracy: 0.7230\n",
            "Epoch 9/100\n",
            "4546/4546 [==============================] - 208s 46ms/step - loss: 0.6750 - accuracy: 0.7452 - val_loss: 0.7529 - val_accuracy: 0.7239\n",
            "Epoch 10/100\n",
            "4546/4546 [==============================] - 208s 46ms/step - loss: 0.6645 - accuracy: 0.7490 - val_loss: 0.7502 - val_accuracy: 0.7241\n",
            "Epoch 11/100\n",
            "4546/4546 [==============================] - 208s 46ms/step - loss: 0.6577 - accuracy: 0.7513 - val_loss: 0.7555 - val_accuracy: 0.7232\n",
            "Epoch 12/100\n",
            "4546/4546 [==============================] - 208s 46ms/step - loss: 0.6488 - accuracy: 0.7542 - val_loss: 0.7581 - val_accuracy: 0.7233\n",
            "Epoch 13/100\n",
            "4546/4546 [==============================] - 208s 46ms/step - loss: 0.6417 - accuracy: 0.7565 - val_loss: 0.7618 - val_accuracy: 0.7239\n",
            "Epoch 14/100\n",
            "4546/4546 [==============================] - 208s 46ms/step - loss: 0.6341 - accuracy: 0.7585 - val_loss: 0.7601 - val_accuracy: 0.7245\n",
            "Epoch 15/100\n",
            "4546/4546 [==============================] - 208s 46ms/step - loss: 0.6270 - accuracy: 0.7618 - val_loss: 0.7651 - val_accuracy: 0.7223\n",
            "Epoch 16/100\n",
            "4546/4546 [==============================] - 208s 46ms/step - loss: 0.6215 - accuracy: 0.7634 - val_loss: 0.7721 - val_accuracy: 0.7208\n",
            "Epoch 17/100\n",
            "4546/4546 [==============================] - 208s 46ms/step - loss: 0.6158 - accuracy: 0.7659 - val_loss: 0.7718 - val_accuracy: 0.7178\n",
            "Epoch 18/100\n",
            "4546/4546 [==============================] - 208s 46ms/step - loss: 0.6098 - accuracy: 0.7678 - val_loss: 0.7881 - val_accuracy: 0.7188\n",
            "Epoch 19/100\n",
            "4546/4546 [==============================] - 208s 46ms/step - loss: 0.6058 - accuracy: 0.7694 - val_loss: 0.7790 - val_accuracy: 0.7190\n",
            "Epoch 20/100\n",
            "4546/4546 [==============================] - 208s 46ms/step - loss: 0.5991 - accuracy: 0.7715 - val_loss: 0.7997 - val_accuracy: 0.7154\n",
            "Epoch 21/100\n",
            "4546/4546 [==============================] - 208s 46ms/step - loss: 0.5953 - accuracy: 0.7728 - val_loss: 0.7863 - val_accuracy: 0.7191\n",
            "Epoch 22/100\n",
            "4546/4546 [==============================] - 208s 46ms/step - loss: 0.5906 - accuracy: 0.7744 - val_loss: 0.7941 - val_accuracy: 0.7195\n",
            "Epoch 23/100\n",
            "4546/4546 [==============================] - 208s 46ms/step - loss: 0.5862 - accuracy: 0.7763 - val_loss: 0.8062 - val_accuracy: 0.7166\n",
            "Epoch 24/100\n",
            "4546/4546 [==============================] - 208s 46ms/step - loss: 0.5828 - accuracy: 0.7778 - val_loss: 0.8043 - val_accuracy: 0.7187\n",
            "Epoch 25/100\n",
            "4546/4546 [==============================] - 208s 46ms/step - loss: 0.5794 - accuracy: 0.7785 - val_loss: 0.8000 - val_accuracy: 0.7139\n",
            "Epoch 26/100\n",
            "4546/4546 [==============================] - 208s 46ms/step - loss: 0.5748 - accuracy: 0.7794 - val_loss: 0.8052 - val_accuracy: 0.7155\n",
            "Epoch 27/100\n",
            "4546/4546 [==============================] - 208s 46ms/step - loss: 0.5732 - accuracy: 0.7800 - val_loss: 0.8007 - val_accuracy: 0.7165\n",
            "Epoch 28/100\n",
            "4546/4546 [==============================] - 208s 46ms/step - loss: 0.5689 - accuracy: 0.7823 - val_loss: 0.8115 - val_accuracy: 0.7140\n",
            "Epoch 29/100\n",
            "4546/4546 [==============================] - 208s 46ms/step - loss: 0.5643 - accuracy: 0.7839 - val_loss: 0.8199 - val_accuracy: 0.7164\n",
            "Epoch 30/100\n",
            "4546/4546 [==============================] - 208s 46ms/step - loss: 0.5637 - accuracy: 0.7838 - val_loss: 0.8136 - val_accuracy: 0.7170\n",
            "Epoch 31/100\n",
            "4546/4546 [==============================] - 208s 46ms/step - loss: 0.5610 - accuracy: 0.7848 - val_loss: 0.8225 - val_accuracy: 0.7156\n",
            "Epoch 32/100\n",
            "4546/4546 [==============================] - 208s 46ms/step - loss: 0.5577 - accuracy: 0.7862 - val_loss: 0.8234 - val_accuracy: 0.7154\n",
            "Epoch 33/100\n",
            "4546/4546 [==============================] - 208s 46ms/step - loss: 0.5521 - accuracy: 0.7888 - val_loss: 0.8274 - val_accuracy: 0.7168\n",
            "Epoch 34/100\n",
            "4546/4546 [==============================] - 208s 46ms/step - loss: 0.5521 - accuracy: 0.7885 - val_loss: 0.8621 - val_accuracy: 0.7072\n",
            "Epoch 35/100\n",
            "4546/4546 [==============================] - 208s 46ms/step - loss: 0.5502 - accuracy: 0.7889 - val_loss: 0.8255 - val_accuracy: 0.7088\n",
            "Epoch 36/100\n",
            "4546/4546 [==============================] - 208s 46ms/step - loss: 0.5471 - accuracy: 0.7902 - val_loss: 0.8419 - val_accuracy: 0.7071\n",
            "Epoch 37/100\n",
            "4546/4546 [==============================] - 208s 46ms/step - loss: 0.5460 - accuracy: 0.7913 - val_loss: 0.8410 - val_accuracy: 0.7122\n",
            "Epoch 38/100\n",
            "4546/4546 [==============================] - 208s 46ms/step - loss: 0.5409 - accuracy: 0.7924 - val_loss: 0.8469 - val_accuracy: 0.7064\n",
            "Epoch 39/100\n",
            "4546/4546 [==============================] - 208s 46ms/step - loss: 0.5392 - accuracy: 0.7941 - val_loss: 0.8537 - val_accuracy: 0.7141\n",
            "Epoch 40/100\n",
            "4546/4546 [==============================] - 208s 46ms/step - loss: 0.5365 - accuracy: 0.7942 - val_loss: 0.8487 - val_accuracy: 0.7098\n",
            "Epoch 41/100\n",
            "4546/4546 [==============================] - 208s 46ms/step - loss: 0.5334 - accuracy: 0.7952 - val_loss: 0.8574 - val_accuracy: 0.7125\n",
            "Epoch 42/100\n",
            "4546/4546 [==============================] - 208s 46ms/step - loss: 0.5329 - accuracy: 0.7956 - val_loss: 0.8546 - val_accuracy: 0.7056\n",
            "Epoch 43/100\n",
            "4546/4546 [==============================] - 208s 46ms/step - loss: 0.5304 - accuracy: 0.7968 - val_loss: 0.8498 - val_accuracy: 0.7113\n",
            "Epoch 44/100\n",
            "4546/4546 [==============================] - 208s 46ms/step - loss: 0.5292 - accuracy: 0.7967 - val_loss: 0.8537 - val_accuracy: 0.7100\n",
            "Epoch 45/100\n",
            "4546/4546 [==============================] - 207s 46ms/step - loss: 0.5292 - accuracy: 0.7970 - val_loss: 0.8628 - val_accuracy: 0.7113\n",
            "Epoch 46/100\n",
            "4546/4546 [==============================] - 208s 46ms/step - loss: 0.5258 - accuracy: 0.7981 - val_loss: 0.8638 - val_accuracy: 0.7101\n",
            "Epoch 47/100\n",
            "4546/4546 [==============================] - 207s 46ms/step - loss: 0.5241 - accuracy: 0.7992 - val_loss: 0.8737 - val_accuracy: 0.7117\n",
            "Epoch 48/100\n",
            "4546/4546 [==============================] - 208s 46ms/step - loss: 0.5214 - accuracy: 0.8008 - val_loss: 0.8612 - val_accuracy: 0.7109\n",
            "Epoch 49/100\n",
            "4546/4546 [==============================] - 207s 46ms/step - loss: 0.5217 - accuracy: 0.7995 - val_loss: 0.8742 - val_accuracy: 0.7108\n",
            "Epoch 50/100\n",
            "4546/4546 [==============================] - 208s 46ms/step - loss: 0.5191 - accuracy: 0.8013 - val_loss: 0.8810 - val_accuracy: 0.7120\n",
            "Epoch 51/100\n",
            "4546/4546 [==============================] - 208s 46ms/step - loss: 0.5155 - accuracy: 0.8026 - val_loss: 0.8722 - val_accuracy: 0.7099\n",
            "Epoch 52/100\n",
            "4546/4546 [==============================] - 208s 46ms/step - loss: 0.5149 - accuracy: 0.8031 - val_loss: 0.8729 - val_accuracy: 0.7090\n",
            "Epoch 53/100\n",
            "4546/4546 [==============================] - 208s 46ms/step - loss: 0.5126 - accuracy: 0.8030 - val_loss: 0.8851 - val_accuracy: 0.7099\n",
            "Epoch 54/100\n",
            "4546/4546 [==============================] - 208s 46ms/step - loss: 0.5120 - accuracy: 0.8042 - val_loss: 0.8833 - val_accuracy: 0.7077\n",
            "Epoch 55/100\n",
            "4546/4546 [==============================] - 208s 46ms/step - loss: 0.5111 - accuracy: 0.8037 - val_loss: 0.8797 - val_accuracy: 0.7100\n",
            "Epoch 56/100\n",
            "4546/4546 [==============================] - 208s 46ms/step - loss: 0.5077 - accuracy: 0.8044 - val_loss: 0.8879 - val_accuracy: 0.7075\n",
            "Epoch 57/100\n",
            "4546/4546 [==============================] - 208s 46ms/step - loss: 0.5071 - accuracy: 0.8055 - val_loss: 0.9073 - val_accuracy: 0.7117\n",
            "Epoch 58/100\n",
            "4546/4546 [==============================] - 208s 46ms/step - loss: 0.5057 - accuracy: 0.8063 - val_loss: 0.8851 - val_accuracy: 0.7085\n",
            "Epoch 59/100\n",
            "4546/4546 [==============================] - 208s 46ms/step - loss: 0.5042 - accuracy: 0.8068 - val_loss: 0.8898 - val_accuracy: 0.7097\n",
            "Epoch 60/100\n",
            "4546/4546 [==============================] - 208s 46ms/step - loss: 0.5028 - accuracy: 0.8073 - val_loss: 0.9044 - val_accuracy: 0.7099\n",
            "Epoch 61/100\n",
            "4546/4546 [==============================] - 208s 46ms/step - loss: 0.5025 - accuracy: 0.8080 - val_loss: 0.9000 - val_accuracy: 0.7064\n",
            "Epoch 62/100\n",
            "4546/4546 [==============================] - 208s 46ms/step - loss: 0.4995 - accuracy: 0.8077 - val_loss: 0.8827 - val_accuracy: 0.7086\n",
            "Epoch 63/100\n",
            "4546/4546 [==============================] - 208s 46ms/step - loss: 0.4997 - accuracy: 0.8085 - val_loss: 0.9189 - val_accuracy: 0.7098\n",
            "Epoch 64/100\n",
            "4546/4546 [==============================] - 208s 46ms/step - loss: 0.4973 - accuracy: 0.8094 - val_loss: 0.9176 - val_accuracy: 0.7100\n",
            "Epoch 65/100\n",
            "4546/4546 [==============================] - 208s 46ms/step - loss: 0.4970 - accuracy: 0.8096 - val_loss: 0.9098 - val_accuracy: 0.7085\n",
            "Epoch 66/100\n",
            "4546/4546 [==============================] - 208s 46ms/step - loss: 0.4940 - accuracy: 0.8113 - val_loss: 0.9168 - val_accuracy: 0.7072\n",
            "Epoch 67/100\n",
            "4546/4546 [==============================] - 208s 46ms/step - loss: 0.4955 - accuracy: 0.8103 - val_loss: 0.9278 - val_accuracy: 0.7040\n",
            "Epoch 68/100\n",
            "4546/4546 [==============================] - 208s 46ms/step - loss: 0.4927 - accuracy: 0.8118 - val_loss: 0.9032 - val_accuracy: 0.7056\n",
            "Epoch 69/100\n",
            "4546/4546 [==============================] - 208s 46ms/step - loss: 0.4905 - accuracy: 0.8115 - val_loss: 0.9138 - val_accuracy: 0.7055\n",
            "Epoch 70/100\n",
            "4546/4546 [==============================] - 208s 46ms/step - loss: 0.4888 - accuracy: 0.8135 - val_loss: 0.8972 - val_accuracy: 0.7085\n",
            "Epoch 71/100\n",
            "4546/4546 [==============================] - 208s 46ms/step - loss: 0.4902 - accuracy: 0.8127 - val_loss: 0.9244 - val_accuracy: 0.7077\n",
            "Epoch 72/100\n",
            "4546/4546 [==============================] - 208s 46ms/step - loss: 0.4884 - accuracy: 0.8129 - val_loss: 0.9273 - val_accuracy: 0.7064\n",
            "Epoch 73/100\n",
            "4546/4546 [==============================] - 208s 46ms/step - loss: 0.4869 - accuracy: 0.8146 - val_loss: 0.9235 - val_accuracy: 0.7066\n",
            "Epoch 74/100\n",
            "4546/4546 [==============================] - 208s 46ms/step - loss: 0.4871 - accuracy: 0.8136 - val_loss: 0.9158 - val_accuracy: 0.7089\n",
            "Epoch 75/100\n",
            "4546/4546 [==============================] - 208s 46ms/step - loss: 0.4845 - accuracy: 0.8149 - val_loss: 0.9185 - val_accuracy: 0.7072\n",
            "Epoch 76/100\n",
            "4546/4546 [==============================] - 208s 46ms/step - loss: 0.4839 - accuracy: 0.8152 - val_loss: 0.9252 - val_accuracy: 0.7052\n",
            "Epoch 77/100\n",
            "4546/4546 [==============================] - 208s 46ms/step - loss: 0.4850 - accuracy: 0.8146 - val_loss: 0.9313 - val_accuracy: 0.7068\n",
            "Epoch 78/100\n",
            "4546/4546 [==============================] - 208s 46ms/step - loss: 0.4835 - accuracy: 0.8153 - val_loss: 0.9416 - val_accuracy: 0.7059\n",
            "Epoch 79/100\n",
            "4546/4546 [==============================] - 208s 46ms/step - loss: 0.4829 - accuracy: 0.8161 - val_loss: 0.9327 - val_accuracy: 0.7058\n",
            "Epoch 80/100\n",
            "4546/4546 [==============================] - 208s 46ms/step - loss: 0.4808 - accuracy: 0.8164 - val_loss: 0.9395 - val_accuracy: 0.7088\n",
            "Epoch 81/100\n",
            "4546/4546 [==============================] - 208s 46ms/step - loss: 0.4806 - accuracy: 0.8168 - val_loss: 0.9335 - val_accuracy: 0.7031\n",
            "Epoch 82/100\n",
            "4546/4546 [==============================] - 208s 46ms/step - loss: 0.4785 - accuracy: 0.8174 - val_loss: 0.9450 - val_accuracy: 0.7002\n",
            "Epoch 83/100\n",
            "4546/4546 [==============================] - 208s 46ms/step - loss: 0.4781 - accuracy: 0.8177 - val_loss: 0.9393 - val_accuracy: 0.7065\n",
            "Epoch 84/100\n",
            "4546/4546 [==============================] - 208s 46ms/step - loss: 0.4767 - accuracy: 0.8180 - val_loss: 0.9522 - val_accuracy: 0.7073\n",
            "Epoch 85/100\n",
            "4546/4546 [==============================] - 208s 46ms/step - loss: 0.4758 - accuracy: 0.8189 - val_loss: 0.9521 - val_accuracy: 0.7053\n",
            "Epoch 86/100\n",
            "4546/4546 [==============================] - 208s 46ms/step - loss: 0.4743 - accuracy: 0.8190 - val_loss: 0.9488 - val_accuracy: 0.7044\n",
            "Epoch 87/100\n",
            "4546/4546 [==============================] - 208s 46ms/step - loss: 0.4735 - accuracy: 0.8191 - val_loss: 0.9497 - val_accuracy: 0.7045\n",
            "Epoch 88/100\n",
            "4546/4546 [==============================] - 208s 46ms/step - loss: 0.4720 - accuracy: 0.8197 - val_loss: 0.9431 - val_accuracy: 0.7047\n",
            "Epoch 89/100\n",
            "4546/4546 [==============================] - 208s 46ms/step - loss: 0.4731 - accuracy: 0.8187 - val_loss: 0.9407 - val_accuracy: 0.7053\n",
            "Epoch 90/100\n",
            "4546/4546 [==============================] - 208s 46ms/step - loss: 0.4730 - accuracy: 0.8199 - val_loss: 0.9341 - val_accuracy: 0.7074\n",
            "Epoch 91/100\n",
            "4546/4546 [==============================] - 208s 46ms/step - loss: 0.4709 - accuracy: 0.8209 - val_loss: 0.9539 - val_accuracy: 0.7031\n",
            "Epoch 92/100\n",
            "4546/4546 [==============================] - 208s 46ms/step - loss: 0.4698 - accuracy: 0.8204 - val_loss: 0.9873 - val_accuracy: 0.7028\n",
            "Epoch 93/100\n",
            "4546/4546 [==============================] - 208s 46ms/step - loss: 0.4686 - accuracy: 0.8220 - val_loss: 0.9648 - val_accuracy: 0.7056\n",
            "Epoch 94/100\n",
            "4546/4546 [==============================] - 208s 46ms/step - loss: 0.4675 - accuracy: 0.8222 - val_loss: 0.9571 - val_accuracy: 0.7046\n",
            "Epoch 95/100\n",
            "4546/4546 [==============================] - 208s 46ms/step - loss: 0.4687 - accuracy: 0.8220 - val_loss: 0.9710 - val_accuracy: 0.7065\n",
            "Epoch 96/100\n",
            "4546/4546 [==============================] - 208s 46ms/step - loss: 0.4673 - accuracy: 0.8224 - val_loss: 0.9574 - val_accuracy: 0.7037\n",
            "Epoch 97/100\n",
            "4546/4546 [==============================] - 208s 46ms/step - loss: 0.4653 - accuracy: 0.8226 - val_loss: 0.9601 - val_accuracy: 0.7039\n",
            "Epoch 98/100\n",
            "4546/4546 [==============================] - 208s 46ms/step - loss: 0.4656 - accuracy: 0.8228 - val_loss: 0.9717 - val_accuracy: 0.7024\n",
            "Epoch 99/100\n",
            "4546/4546 [==============================] - 208s 46ms/step - loss: 0.4639 - accuracy: 0.8230 - val_loss: 0.9684 - val_accuracy: 0.7042\n",
            "Epoch 100/100\n",
            "4546/4546 [==============================] - 208s 46ms/step - loss: 0.4650 - accuracy: 0.8228 - val_loss: 0.9675 - val_accuracy: 0.7031\n"
          ]
        },
        {
          "output_type": "execute_result",
          "data": {
            "text/plain": [
              "<keras.callbacks.History at 0x7f6391835710>"
            ]
          },
          "metadata": {},
          "execution_count": 30
        }
      ]
    },
    {
      "cell_type": "code",
      "metadata": {
        "colab": {
          "base_uri": "https://localhost:8080/"
        },
        "id": "QDXpuZmHQuo2",
        "outputId": "89119cd6-132f-40d8-eaa8-bff5397f43a1"
      },
      "source": [
        "CNN_preds3 = CNN_model3.predict(X_test, batch_size=64)\n",
        "print(sklearn.metrics.classification_report(Y_test.argmax(axis=1),CNN_preds3.argmax(axis=1), target_names=encoder.classes_))\n",
        "print(\"Confusion matrix:\\n\",sklearn.metrics.confusion_matrix(Y_test.argmax(axis=1),CNN_preds3.argmax(axis=1)))"
      ],
      "execution_count": 31,
      "outputs": [
        {
          "output_type": "stream",
          "name": "stdout",
          "text": [
            "                   precision    recall  f1-score   support\n",
            "\n",
            "            Abuse       0.66      0.58      0.61      3829\n",
            "          Anxiety       0.79      0.80      0.80     14383\n",
            "            Death       0.67      0.53      0.59      1206\n",
            "       Depression       0.58      0.52      0.55     13893\n",
            "Domestic Violence       0.53      0.48      0.51      1866\n",
            "       Dysmorphia       0.79      0.70      0.74      3581\n",
            "  Eating Disorder       0.87      0.84      0.86     14676\n",
            "             PTSD       0.76      0.69      0.73      5993\n",
            "          Suicide       0.55      0.70      0.61     13302\n",
            "\n",
            "         accuracy                           0.70     72729\n",
            "        macro avg       0.69      0.65      0.67     72729\n",
            "     weighted avg       0.71      0.70      0.70     72729\n",
            "\n",
            "Confusion matrix:\n",
            " [[ 2205   117     9   244   650    15    62   264   263]\n",
            " [   92 11534    46   966    19   101   411   338   876]\n",
            " [    6   109   634   138     1     0    18    21   279]\n",
            " [  156  1214    98  7279    36    94   423   266  4327]\n",
            " [  554    45     6    74   899     2    19   153   114]\n",
            " [   13   142     0   192     4  2513   434    18   265]\n",
            " [   33   358    29   355     4   378 12354    54  1111]\n",
            " [  197   582    27   381    66    13   141  4156   430]\n",
            " [  107   476   100  2827    13    71   268   172  9268]]\n"
          ]
        }
      ]
    },
    {
      "cell_type": "code",
      "metadata": {
        "colab": {
          "base_uri": "https://localhost:8080/"
        },
        "id": "w_FE6rDR6ibK",
        "outputId": "f540e0ca-1fab-4367-e004-3459b21e7386"
      },
      "source": [
        "print(sklearn.metrics.label_ranking_average_precision_score(Y_test,CNN_preds3))"
      ],
      "execution_count": 35,
      "outputs": [
        {
          "output_type": "stream",
          "name": "stdout",
          "text": [
            "0.8177863156702602\n"
          ]
        }
      ]
    },
    {
      "cell_type": "code",
      "metadata": {
        "colab": {
          "base_uri": "https://localhost:8080/",
          "height": 907
        },
        "id": "rtQTRViYctR4",
        "outputId": "96a4b295-9f5b-4490-a7ea-f1fdd1233660"
      },
      "source": [
        "fig, ax = plt.subplots(figsize=(16, 16))\n",
        "x=sklearn.metrics.ConfusionMatrixDisplay(sklearn.metrics.confusion_matrix(Y_test.argmax(axis=1),CNN_preds3.argmax(axis=1)),display_labels=labes)\n",
        "x.plot(ax=ax)\n",
        "plt.show()\n"
      ],
      "execution_count": 66,
      "outputs": [
        {
          "output_type": "display_data",
          "data": {
            "image/png": "[encoded data removed]",
            "text/plain": [
              "<Figure size 1152x1152 with 2 Axes>"
            ]
          },
          "metadata": {
            "needs_background": "light"
          }
        }
      ]
    },
    {
      "cell_type": "code",
      "metadata": {
        "colab": {
          "base_uri": "https://localhost:8080/"
        },
        "id": "bJbuCiNsnefp",
        "outputId": "56986ca3-e922-4fa7-ae58-2ae18c4ee54d"
      },
      "source": [
        "print(\"Accuracy Score\", accuracy_score(Y_test.argmax(axis=1),CNN_preds3.argmax(axis=1)))\n",
        "print(\"F1:\",sklearn.metrics.f1_score(Y_test.argmax(axis=1),CNN_preds3.argmax(axis=1),average='weighted'))\n",
        "print(\"Precision:\", sklearn.metrics.precision_score(Y_test.argmax(axis=1),CNN_preds3.argmax(axis=1),average='weighted'))\n",
        "print(\"Recall:\", sklearn.metrics.recall_score(Y_test.argmax(axis=1),CNN_preds3.argmax(axis=1),average='weighted'))"
      ],
      "execution_count": 36,
      "outputs": [
        {
          "output_type": "stream",
          "name": "stdout",
          "text": [
            "Accuracy Score 0.699060897303689\n",
            "F1: 0.6997463659719719\n",
            "Precision: 0.7056250691751461\n",
            "Recall: 0.699060897303689\n"
          ]
        }
      ]
    }
  ]
}